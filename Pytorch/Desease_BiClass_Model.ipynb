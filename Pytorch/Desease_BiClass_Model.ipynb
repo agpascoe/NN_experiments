{
  "cells": [
    {
      "cell_type": "markdown",
      "metadata": {
        "id": "view-in-github",
        "colab_type": "text"
      },
      "source": [
        "<a href=\"https://colab.research.google.com/github/agpascoe/NN_experiments/blob/main/Pytorch/Desease_BiClass_Model.ipynb\" target=\"_parent\"><img src=\"https://colab.research.google.com/assets/colab-badge.svg\" alt=\"Open In Colab\"/></a>"
      ]
    },
    {
      "cell_type": "markdown",
      "metadata": {
        "id": "bhWV8oes-wKR"
      },
      "source": [
        "# Project: Predicting Heart Desease w/pytorch classes implementation\n",
        "## Sept 2022\n",
        "\n",
        "This is a Bi Classification Model, where we need to predict if a pascient with some caharacteristics, might be a heart desease (1) or not.\n",
        "\n",
        "Nevertheless this is a typical NN problem, the key value of this implementation is in the class encapsulation (the whole model in modeled as a class), the split function, and finally the experiment that runs a bunch of parmeters."
      ]
    },
    {
      "cell_type": "code",
      "execution_count": 6,
      "metadata": {
        "id": "GOCQx3K7zOy_"
      },
      "outputs": [],
      "source": [
        "# Note: this code uses some lines and ideas from DUDL_metaparams_multioutput.ipynb (section \"Metaparameters\")"
      ]
    },
    {
      "cell_type": "code",
      "execution_count": 7,
      "metadata": {
        "id": "j7-LiwqUMGYL"
      },
      "outputs": [],
      "source": [
        "# import libraries\n",
        "import torch\n",
        "import torch.nn as nn\n",
        "import torch.nn.functional as F\n",
        "from torch.utils.data import DataLoader,TensorDataset\n",
        "from sklearn.model_selection import train_test_split\n",
        "\n",
        "import numpy as np\n",
        "import pandas as pd\n",
        "import copy\n",
        "\n",
        "import matplotlib.pyplot as plt\n",
        "from IPython import display\n",
        "display.set_matplotlib_formats('svg')"
      ]
    },
    {
      "cell_type": "markdown",
      "metadata": {
        "id": "E5XW-r_kT3_9"
      },
      "source": [
        "# Download and inspect the data"
      ]
    },
    {
      "cell_type": "code",
      "source": [
        "# import the data\n",
        "url  = 'https://archive.ics.uci.edu/ml/machine-learning-databases/heart-disease/processed.cleveland.data'\n",
        "data = pd.read_csv(url,sep=',',header=None)\n",
        "data.columns = ['age','sex','cp','trestbps','chol','fbs','restecg','thalach','exang','oldpeak','slope','ca','thal','DISEASE']\n",
        "\n",
        "\n",
        "#data contain some ?'s; replace with NaN and drop those rows\n",
        "data = data.replace('?',np.nan).dropna()\n",
        "\n",
        "data.head(5)\n"
      ],
      "metadata": {
        "id": "gKFI8K7S8Ajv",
        "outputId": "c86fdf03-54c1-415b-d862-5729ca166a85",
        "colab": {
          "base_uri": "https://localhost:8080/",
          "height": 206
        }
      },
      "execution_count": 8,
      "outputs": [
        {
          "output_type": "execute_result",
          "data": {
            "text/plain": [
              "    age  sex   cp  trestbps   chol  fbs  restecg  thalach  exang  oldpeak  \\\n",
              "0  63.0  1.0  1.0     145.0  233.0  1.0      2.0    150.0    0.0      2.3   \n",
              "1  67.0  1.0  4.0     160.0  286.0  0.0      2.0    108.0    1.0      1.5   \n",
              "2  67.0  1.0  4.0     120.0  229.0  0.0      2.0    129.0    1.0      2.6   \n",
              "3  37.0  1.0  3.0     130.0  250.0  0.0      0.0    187.0    0.0      3.5   \n",
              "4  41.0  0.0  2.0     130.0  204.0  0.0      2.0    172.0    0.0      1.4   \n",
              "\n",
              "   slope   ca thal  DISEASE  \n",
              "0    3.0  0.0  6.0        0  \n",
              "1    2.0  3.0  3.0        2  \n",
              "2    2.0  2.0  7.0        1  \n",
              "3    3.0  0.0  3.0        0  \n",
              "4    1.0  0.0  3.0        0  "
            ],
            "text/html": [
              "\n",
              "  <div id=\"df-2cb145e1-8e7c-4513-a700-8b3be44c0802\">\n",
              "    <div class=\"colab-df-container\">\n",
              "      <div>\n",
              "<style scoped>\n",
              "    .dataframe tbody tr th:only-of-type {\n",
              "        vertical-align: middle;\n",
              "    }\n",
              "\n",
              "    .dataframe tbody tr th {\n",
              "        vertical-align: top;\n",
              "    }\n",
              "\n",
              "    .dataframe thead th {\n",
              "        text-align: right;\n",
              "    }\n",
              "</style>\n",
              "<table border=\"1\" class=\"dataframe\">\n",
              "  <thead>\n",
              "    <tr style=\"text-align: right;\">\n",
              "      <th></th>\n",
              "      <th>age</th>\n",
              "      <th>sex</th>\n",
              "      <th>cp</th>\n",
              "      <th>trestbps</th>\n",
              "      <th>chol</th>\n",
              "      <th>fbs</th>\n",
              "      <th>restecg</th>\n",
              "      <th>thalach</th>\n",
              "      <th>exang</th>\n",
              "      <th>oldpeak</th>\n",
              "      <th>slope</th>\n",
              "      <th>ca</th>\n",
              "      <th>thal</th>\n",
              "      <th>DISEASE</th>\n",
              "    </tr>\n",
              "  </thead>\n",
              "  <tbody>\n",
              "    <tr>\n",
              "      <th>0</th>\n",
              "      <td>63.0</td>\n",
              "      <td>1.0</td>\n",
              "      <td>1.0</td>\n",
              "      <td>145.0</td>\n",
              "      <td>233.0</td>\n",
              "      <td>1.0</td>\n",
              "      <td>2.0</td>\n",
              "      <td>150.0</td>\n",
              "      <td>0.0</td>\n",
              "      <td>2.3</td>\n",
              "      <td>3.0</td>\n",
              "      <td>0.0</td>\n",
              "      <td>6.0</td>\n",
              "      <td>0</td>\n",
              "    </tr>\n",
              "    <tr>\n",
              "      <th>1</th>\n",
              "      <td>67.0</td>\n",
              "      <td>1.0</td>\n",
              "      <td>4.0</td>\n",
              "      <td>160.0</td>\n",
              "      <td>286.0</td>\n",
              "      <td>0.0</td>\n",
              "      <td>2.0</td>\n",
              "      <td>108.0</td>\n",
              "      <td>1.0</td>\n",
              "      <td>1.5</td>\n",
              "      <td>2.0</td>\n",
              "      <td>3.0</td>\n",
              "      <td>3.0</td>\n",
              "      <td>2</td>\n",
              "    </tr>\n",
              "    <tr>\n",
              "      <th>2</th>\n",
              "      <td>67.0</td>\n",
              "      <td>1.0</td>\n",
              "      <td>4.0</td>\n",
              "      <td>120.0</td>\n",
              "      <td>229.0</td>\n",
              "      <td>0.0</td>\n",
              "      <td>2.0</td>\n",
              "      <td>129.0</td>\n",
              "      <td>1.0</td>\n",
              "      <td>2.6</td>\n",
              "      <td>2.0</td>\n",
              "      <td>2.0</td>\n",
              "      <td>7.0</td>\n",
              "      <td>1</td>\n",
              "    </tr>\n",
              "    <tr>\n",
              "      <th>3</th>\n",
              "      <td>37.0</td>\n",
              "      <td>1.0</td>\n",
              "      <td>3.0</td>\n",
              "      <td>130.0</td>\n",
              "      <td>250.0</td>\n",
              "      <td>0.0</td>\n",
              "      <td>0.0</td>\n",
              "      <td>187.0</td>\n",
              "      <td>0.0</td>\n",
              "      <td>3.5</td>\n",
              "      <td>3.0</td>\n",
              "      <td>0.0</td>\n",
              "      <td>3.0</td>\n",
              "      <td>0</td>\n",
              "    </tr>\n",
              "    <tr>\n",
              "      <th>4</th>\n",
              "      <td>41.0</td>\n",
              "      <td>0.0</td>\n",
              "      <td>2.0</td>\n",
              "      <td>130.0</td>\n",
              "      <td>204.0</td>\n",
              "      <td>0.0</td>\n",
              "      <td>2.0</td>\n",
              "      <td>172.0</td>\n",
              "      <td>0.0</td>\n",
              "      <td>1.4</td>\n",
              "      <td>1.0</td>\n",
              "      <td>0.0</td>\n",
              "      <td>3.0</td>\n",
              "      <td>0</td>\n",
              "    </tr>\n",
              "  </tbody>\n",
              "</table>\n",
              "</div>\n",
              "      <button class=\"colab-df-convert\" onclick=\"convertToInteractive('df-2cb145e1-8e7c-4513-a700-8b3be44c0802')\"\n",
              "              title=\"Convert this dataframe to an interactive table.\"\n",
              "              style=\"display:none;\">\n",
              "        \n",
              "  <svg xmlns=\"http://www.w3.org/2000/svg\" height=\"24px\"viewBox=\"0 0 24 24\"\n",
              "       width=\"24px\">\n",
              "    <path d=\"M0 0h24v24H0V0z\" fill=\"none\"/>\n",
              "    <path d=\"M18.56 5.44l.94 2.06.94-2.06 2.06-.94-2.06-.94-.94-2.06-.94 2.06-2.06.94zm-11 1L8.5 8.5l.94-2.06 2.06-.94-2.06-.94L8.5 2.5l-.94 2.06-2.06.94zm10 10l.94 2.06.94-2.06 2.06-.94-2.06-.94-.94-2.06-.94 2.06-2.06.94z\"/><path d=\"M17.41 7.96l-1.37-1.37c-.4-.4-.92-.59-1.43-.59-.52 0-1.04.2-1.43.59L10.3 9.45l-7.72 7.72c-.78.78-.78 2.05 0 2.83L4 21.41c.39.39.9.59 1.41.59.51 0 1.02-.2 1.41-.59l7.78-7.78 2.81-2.81c.8-.78.8-2.07 0-2.86zM5.41 20L4 18.59l7.72-7.72 1.47 1.35L5.41 20z\"/>\n",
              "  </svg>\n",
              "      </button>\n",
              "      \n",
              "  <style>\n",
              "    .colab-df-container {\n",
              "      display:flex;\n",
              "      flex-wrap:wrap;\n",
              "      gap: 12px;\n",
              "    }\n",
              "\n",
              "    .colab-df-convert {\n",
              "      background-color: #E8F0FE;\n",
              "      border: none;\n",
              "      border-radius: 50%;\n",
              "      cursor: pointer;\n",
              "      display: none;\n",
              "      fill: #1967D2;\n",
              "      height: 32px;\n",
              "      padding: 0 0 0 0;\n",
              "      width: 32px;\n",
              "    }\n",
              "\n",
              "    .colab-df-convert:hover {\n",
              "      background-color: #E2EBFA;\n",
              "      box-shadow: 0px 1px 2px rgba(60, 64, 67, 0.3), 0px 1px 3px 1px rgba(60, 64, 67, 0.15);\n",
              "      fill: #174EA6;\n",
              "    }\n",
              "\n",
              "    [theme=dark] .colab-df-convert {\n",
              "      background-color: #3B4455;\n",
              "      fill: #D2E3FC;\n",
              "    }\n",
              "\n",
              "    [theme=dark] .colab-df-convert:hover {\n",
              "      background-color: #434B5C;\n",
              "      box-shadow: 0px 1px 3px 1px rgba(0, 0, 0, 0.15);\n",
              "      filter: drop-shadow(0px 1px 2px rgba(0, 0, 0, 0.3));\n",
              "      fill: #FFFFFF;\n",
              "    }\n",
              "  </style>\n",
              "\n",
              "      <script>\n",
              "        const buttonEl =\n",
              "          document.querySelector('#df-2cb145e1-8e7c-4513-a700-8b3be44c0802 button.colab-df-convert');\n",
              "        buttonEl.style.display =\n",
              "          google.colab.kernel.accessAllowed ? 'block' : 'none';\n",
              "\n",
              "        async function convertToInteractive(key) {\n",
              "          const element = document.querySelector('#df-2cb145e1-8e7c-4513-a700-8b3be44c0802');\n",
              "          const dataTable =\n",
              "            await google.colab.kernel.invokeFunction('convertToInteractive',\n",
              "                                                     [key], {});\n",
              "          if (!dataTable) return;\n",
              "\n",
              "          const docLinkHtml = 'Like what you see? Visit the ' +\n",
              "            '<a target=\"_blank\" href=https://colab.research.google.com/notebooks/data_table.ipynb>data table notebook</a>'\n",
              "            + ' to learn more about interactive tables.';\n",
              "          element.innerHTML = '';\n",
              "          dataTable['output_type'] = 'display_data';\n",
              "          await google.colab.output.renderOutput(dataTable, element);\n",
              "          const docLink = document.createElement('div');\n",
              "          docLink.innerHTML = docLinkHtml;\n",
              "          element.appendChild(docLink);\n",
              "        }\n",
              "      </script>\n",
              "    </div>\n",
              "  </div>\n",
              "  "
            ]
          },
          "metadata": {},
          "execution_count": 8
        }
      ]
    },
    {
      "cell_type": "markdown",
      "source": [
        "#Data Dictionary:\n",
        "##3 age: age in years\n",
        "##4 sex: sex (1 = male; 0 = female)\n",
        "##9 cp: chest pain type\n",
        "###-- Value 1: typical angina\n",
        "###-- Value 2: atypical angina\n",
        "###-- Value 3: non-anginal pain\n",
        "###-- Value 4: asymptomatic\n",
        "##10 trestbps: resting blood pressure (in mm Hg on admission to the hospital)\n",
        "##12 chol: serum cholestoral in mg/dl\n",
        "##16 fbs: (fasting blood sugar > 120 mg/dl) (1 = true; 0 = false)\n",
        "##19 restecg: resting electrocardiographic results\n",
        "###-- Value 0: normal\n",
        "###-- Value 1: having ST-T wave abnormality (T wave inversions and/or ST elevation or depression of > 0.05 mV)\n",
        "###-- Value 2: showing probable or definite left ventricular hypertrophy by Estes' criteria\n",
        "##32 thalach: maximum heart rate achieved\n",
        "##38 exang: exercise induced angina (1 = yes; 0 = no)\n",
        "##40 oldpeak = ST depression induced by exercise relative to rest\n",
        "##41 slope: the slope of the peak exercise ST segment\n",
        "###-- Value 1: upsloping\n",
        "###-- Value 2: flat\n",
        "###-- Value 3: downsloping\n",
        "###44 ca: number of major vessels (0-3) colored by flourosopy\n"
      ],
      "metadata": {
        "id": "pA_GjN_J-LOs"
      }
    },
    {
      "cell_type": "code",
      "source": [
        "data.dtypes"
      ],
      "metadata": {
        "id": "Fkpanw_G87lW",
        "outputId": "5bf45332-4d01-4899-c770-4e8fab1ac95c",
        "colab": {
          "base_uri": "https://localhost:8080/"
        }
      },
      "execution_count": 9,
      "outputs": [
        {
          "output_type": "execute_result",
          "data": {
            "text/plain": [
              "age         float64\n",
              "sex         float64\n",
              "cp          float64\n",
              "trestbps    float64\n",
              "chol        float64\n",
              "fbs         float64\n",
              "restecg     float64\n",
              "thalach     float64\n",
              "exang       float64\n",
              "oldpeak     float64\n",
              "slope       float64\n",
              "ca           object\n",
              "thal         object\n",
              "DISEASE       int64\n",
              "dtype: object"
            ]
          },
          "metadata": {},
          "execution_count": 9
        }
      ]
    },
    {
      "cell_type": "code",
      "source": [
        "#Needed to convert some datatypes to float\n",
        "\n",
        "data[\"ca\"] = data[\"ca\"].astype(\"float64\")\n",
        "data[\"thal\"] = data[\"thal\"].astype(\"float64\")\n",
        "data.dtypes\n"
      ],
      "metadata": {
        "id": "YhbvMupj9HWD",
        "outputId": "0a4dd37d-8def-4965-dbce-72500779baad",
        "colab": {
          "base_uri": "https://localhost:8080/"
        }
      },
      "execution_count": 10,
      "outputs": [
        {
          "output_type": "execute_result",
          "data": {
            "text/plain": [
              "age         float64\n",
              "sex         float64\n",
              "cp          float64\n",
              "trestbps    float64\n",
              "chol        float64\n",
              "fbs         float64\n",
              "restecg     float64\n",
              "thalach     float64\n",
              "exang       float64\n",
              "oldpeak     float64\n",
              "slope       float64\n",
              "ca          float64\n",
              "thal        float64\n",
              "DISEASE       int64\n",
              "dtype: object"
            ]
          },
          "metadata": {},
          "execution_count": 10
        }
      ]
    },
    {
      "cell_type": "code",
      "source": [
        "#lets convert the dataframe into a matrix x\n",
        "\n",
        "x = np.array(data.loc[:,\"age\":\"thal\"]).astype(\"float64\")\n",
        "print(x[:5],x.shape)\n",
        "xNum = x.shape[1]\n"
      ],
      "metadata": {
        "id": "lloWYnf6Bgwr",
        "outputId": "6f70d84c-c6d3-4fde-bee0-288622d8e2b7",
        "colab": {
          "base_uri": "https://localhost:8080/"
        }
      },
      "execution_count": 11,
      "outputs": [
        {
          "output_type": "stream",
          "name": "stdout",
          "text": [
            "[[ 63.    1.    1.  145.  233.    1.    2.  150.    0.    2.3   3.    0.\n",
            "    6. ]\n",
            " [ 67.    1.    4.  160.  286.    0.    2.  108.    1.    1.5   2.    3.\n",
            "    3. ]\n",
            " [ 67.    1.    4.  120.  229.    0.    2.  129.    1.    2.6   2.    2.\n",
            "    7. ]\n",
            " [ 37.    1.    3.  130.  250.    0.    0.  187.    0.    3.5   3.    0.\n",
            "    3. ]\n",
            " [ 41.    0.    2.  130.  204.    0.    2.  172.    0.    1.4   1.    0.\n",
            "    3. ]] (297, 13)\n"
          ]
        }
      ]
    },
    {
      "cell_type": "code",
      "source": [
        "#here we eliminate the disbalance in desease, an just leave 2 cases 0 or 1.\n",
        "\n",
        "data[data['DISEASE']>0] = 1 #comment if want 5 not 1 different result"
      ],
      "metadata": {
        "id": "dLpHCe6bBmGe"
      },
      "execution_count": 12,
      "outputs": []
    },
    {
      "cell_type": "code",
      "source": [],
      "metadata": {
        "id": "CYcJ28ZYEYuk"
      },
      "execution_count": 12,
      "outputs": []
    },
    {
      "cell_type": "code",
      "source": [
        "#here we get the labels vector\n",
        "labelsNum = data['DISEASE'].unique().shape[0]\n",
        "labels = np.array(data[\"DISEASE\"])\n",
        "print(labels[:5],labels.shape, labelsNum)\n",
        "\n"
      ],
      "metadata": {
        "id": "wyjpnDQ4CYXZ",
        "outputId": "2968cb48-d255-4b21-ea88-a6be77d89b97",
        "colab": {
          "base_uri": "https://localhost:8080/"
        }
      },
      "execution_count": 13,
      "outputs": [
        {
          "output_type": "stream",
          "name": "stdout",
          "text": [
            "[0 1 1 0 0] (297,) 2\n"
          ]
        }
      ]
    },
    {
      "cell_type": "code",
      "source": [],
      "metadata": {
        "id": "4yxMPqeMBhZ4"
      },
      "execution_count": 13,
      "outputs": []
    },
    {
      "cell_type": "code",
      "execution_count": 14,
      "metadata": {
        "id": "QXnb2Ce3rFy9"
      },
      "outputs": [],
      "source": [
        "#this is the split function for getting datasets of trainnig, validation and testing according with partitions array.\n",
        "\n",
        "def splitData(partitions, batch_size, data, labels, verbose=False):\n",
        "\n",
        "  # partitions =[%trainning, %test]\n",
        "  # split the data\n",
        "  data = torch.tensor(data).float()\n",
        "  labels = torch.tensor(labels).long()\n",
        "\n",
        "  train_data,devtest_data, train_labels,devtest_labels = train_test_split(data, labels, train_size=partitions[0],shuffle=True)#randomized\n",
        "\n",
        "  # now split the devtest data\n",
        "  dev_data,test_data, dev_labels,test_labels = train_test_split(devtest_data, devtest_labels, train_size=partitions[1]/(1-partitions[0]),shuffle=True)\n",
        "  \n",
        "  # print out the sizes\n",
        "  if verbose:\n",
        "    print('   Total data size: ' + str(data.shape) + '\\n')\n",
        "    print('Training data size: ' + str(train_data.shape))\n",
        "    print('Trainning Label data size: ' + str(train_labels.shape))\n",
        "    print('Dev data size: ' + str(dev_data.shape))\n",
        "    print('Dev Label data size: ' + str(dev_labels.shape))\n",
        "    print('Dev test size: ' + str(test_data.shape))\n",
        "    print('Dev test data size: ' + str(test_labels.shape))\n",
        "\n",
        "  # then convert them into PyTorch Datasets (note: already converted to tensors)\n",
        "  train_data = TensorDataset(train_data, train_labels)\n",
        "  dev_data   = TensorDataset(dev_data,dev_labels)\n",
        "  test_data  = TensorDataset(test_data,test_labels)\n",
        " \n",
        " \n",
        "  # finally, translate into dataloader objects\n",
        "  train_loader = DataLoader(train_data,batch_size=batch_size,shuffle=True,drop_last=True)\n",
        "  dev_loader   = DataLoader(dev_data,batch_size=dev_data.tensors[0].shape[0])\n",
        "  test_loader  = DataLoader(test_data,batch_size=test_data.tensors[0].shape[0])\n",
        "\n",
        "  return(train_loader, dev_loader, test_loader)\n",
        "\n"
      ]
    },
    {
      "cell_type": "markdown",
      "metadata": {
        "id": "aTmhaS-qTyaE"
      },
      "source": [
        "# Create and validate the model"
      ]
    },
    {
      "cell_type": "code",
      "execution_count": 15,
      "metadata": {
        "id": "G1kvv71HDQ7S"
      },
      "outputs": [],
      "source": [
        "class binaryRegNet(nn.Module):\n",
        "    def __init__(self, nImputs, nOutputs, hidden, nHidden, dr=0.0):\n",
        "      super().__init__()\n",
        "      #Create a dictionary to save the layers\n",
        "      self.layers = nn.ModuleDict()\n",
        "      self.nHidden = nHidden\n",
        "      self.hidden = hidden\n",
        "      self.dr = dr #Dropuot rate\n",
        "      \n",
        "      ### input layer\n",
        "      self.layers[\"input\"] = nn.Linear(nImputs,nHidden)\n",
        "\n",
        "      for h in range(self.hidden):      \n",
        "      ### hidden layer\n",
        "        self.layers[f'hidden{h}'] = nn.Linear(nHidden,nHidden)\n",
        "\n",
        "      ### output layer\n",
        "      self.layers['output'] = nn.Linear(nHidden,nOutputs)\n",
        "\n",
        "\n",
        "\n",
        "    # forward pass\n",
        "    def forward(self,x):\n",
        "      x = F.relu( self.layers['input'](x) )\n",
        "      x = F.dropout(x,p=self.dr,training=self.training) # switch dropout off during .eval()\n",
        "      for h in range(self.hidden):\n",
        "        x = F.relu( self.layers[f'hidden{h}'](x) )\n",
        "        x = F.dropout(x,p=self.dr,training=self.training) # switch dropout off during .eval()\n",
        "      return self.layers['output'](x)\n",
        "\n",
        "    def testModel(self, n, test_loader):\n",
        "      # extract X,y from test dataloader\n",
        "      X,y = next(iter(test_loader)) \n",
        "      self.load_state_dict(n['net'])\n",
        "      yHat = self.forward(X)\n",
        "      bestAcc = 100*torch.mean((torch.argmax(yHat,axis=1)==y).float())\n",
        "      return(yHat, bestAcc)\n",
        "\n",
        "\n",
        "    def fit(self, train_loader, dev_loader, numepochs = 100, learningRate=0.01, weight_decay=0.1, draw=True):\n",
        "      # New! initialize a dictionary for the best model\n",
        "      theBestModel = {'Accuracy':0, 'net':None, 'epoch':0} #net will be the whole model instance\n",
        "\n",
        "      # loss function\n",
        "      self.lossfun = nn.CrossEntropyLoss()\n",
        "\n",
        "      # optimizer\n",
        "      self.optimizer = torch.optim.Adam(self.parameters(), learningRate, weight_decay=weight_decay, )\n",
        "\n",
        "\n",
        "      # initialize losses\n",
        "      losses   = torch.zeros(numepochs)\n",
        "      trainAcc = []\n",
        "      devAcc   = []\n",
        "\n",
        "      # loop over epochs\n",
        "      for epochi in range(numepochs):\n",
        "\n",
        "        # switch on training mode\n",
        "        self.train()\n",
        "\n",
        "        # loop over training data batches\n",
        "        batchAcc  = []\n",
        "        batchLoss = []\n",
        "        for X,y in train_loader:\n",
        "\n",
        "          # forward pass and loss\n",
        "          yHat = self.forward(X)\n",
        "          loss = self.lossfun(yHat,y)\n",
        "\n",
        "          # backprop\n",
        "          self.optimizer.zero_grad()\n",
        "          loss.backward()\n",
        "          self.optimizer.step()\n",
        "\n",
        "          # loss from this batch\n",
        "          batchLoss.append(loss.item())\n",
        "\n",
        "          # compute accuracy\n",
        "          matches = torch.argmax(yHat,axis=1) == y     # booleans (false/true)\n",
        "          matchesNumeric = matches.float()             # convert to numbers (0/1)\n",
        "          accuracyPct = 100*torch.mean(matchesNumeric) # average and x100 \n",
        "          batchAcc.append( accuracyPct )               # add to list of accuracies\n",
        "          # end of batch loop...\n",
        "\n",
        "        # now that we've trained through the batches, get their average training accuracy\n",
        "        trainAcc.append( np.mean(batchAcc) )\n",
        "\n",
        "        # and get average losses across the batches\n",
        "        losses[epochi] = np.mean(batchLoss)\n",
        "\n",
        "        # test accuracy\n",
        "        self.eval()\n",
        "        X,y = next(iter(dev_loader)) # extract X,y from devset dataloader\n",
        "        with torch.no_grad(): # deactivates autograd\n",
        "          yHat = self.forward(X)\n",
        "      \n",
        "        # compare the following really long line of code to the training accuracy lines\n",
        "        devAcc.append( 100*torch.mean((torch.argmax(yHat,axis=1)==y).float()) )\n",
        "\n",
        "\n",
        "        # New! Store this model if it's the best so far\n",
        "        if devAcc[-1]>theBestModel['Accuracy']:\n",
        "      \n",
        "          # new best accuracy\n",
        "          theBestModel['Accuracy'] = devAcc[-1].item()\n",
        "      \n",
        "          # epoch iteration\n",
        "          theBestModel['epoch'] = epochi\n",
        "\n",
        "          # model's internal state\n",
        "          theBestModel['net'] = copy.deepcopy( self.state_dict() ) #here update the best model\n",
        "      \n",
        "        # end epochs\n",
        "      if(draw):\n",
        "        #plot results of trainning\n",
        "        fig,ax = plt.subplots(1,2,figsize=(16,5))\n",
        "        ax[0].plot(losses.detach(),'o-')\n",
        "        ax[0].set_ylabel('Loss')\n",
        "        ax[0].set_xlabel('epoch')\n",
        "        ax[0].set_title('Losses')\n",
        "\n",
        "        ax[1].plot(trainAcc,'o-',label='Train')\n",
        "        ax[1].plot(devAcc,'o-',label='Devset')\n",
        "        ax[1].set_ylabel('Accuracy (%)')\n",
        "        ax[1].set_xlabel('Epoch')\n",
        "        ax[1].set_title('Accuracy')\n",
        "        #ax[1].set_ylim([85,95])\n",
        "        #ax[1].set_xlim([80,105])\n",
        "        ax[1].legend()\n",
        "        plt.show()\n",
        "\n",
        "      # function output\n",
        "      return trainAcc,devAcc,losses,theBestModel\n"
      ]
    },
    {
      "cell_type": "markdown",
      "metadata": {
        "id": "xTFBJ4MeUJmV"
      },
      "source": [
        "# Run the model and plot the results"
      ]
    },
    {
      "cell_type": "code",
      "execution_count": 16,
      "metadata": {
        "colab": {
          "base_uri": "https://localhost:8080/",
          "height": 1000
        },
        "id": "of9E8ClxMNsD",
        "outputId": "f48be560-46cc-47b1-f41e-20d86dba89ef"
      },
      "outputs": [
        {
          "output_type": "stream",
          "name": "stdout",
          "text": [
            "   Total data size: torch.Size([297, 13])\n",
            "\n",
            "Training data size: torch.Size([221, 13])\n",
            "Trainning Label data size: torch.Size([221])\n",
            "Dev data size: torch.Size([40, 13])\n",
            "Dev Label data size: torch.Size([40])\n",
            "Dev test size: torch.Size([36, 13])\n",
            "Dev test data size: torch.Size([36])\n",
            "\n",
            " *** set:  0 cambio de conjunto de sets para trainning/dev/test\n",
            "Hidden Layers:1,  Nodes in HL:8, Best_DevAcc: 75.00, BestModel_test: 69.44, en step: 15.00\n",
            "Hidden Layers:2,  Nodes in HL:16, Best_DevAcc: 65.00, BestModel_test: 80.56, en step: 27.00\n",
            "Hidden Layers:3,  Nodes in HL:8, Best_DevAcc: 65.00, BestModel_test: 80.56, en step: 42.00\n",
            "\n",
            " *** set:  1 cambio de conjunto de sets para trainning/dev/test\n",
            "Hidden Layers:1,  Nodes in HL:8, Best_DevAcc: 77.50, BestModel_test: 69.44, en step: 57.00\n",
            "Hidden Layers:1,  Nodes in HL:64, Best_DevAcc: 82.50, BestModel_test: 77.78, en step: 64.00\n",
            "\n",
            " *** set:  2 cambio de conjunto de sets para trainning/dev/test\n",
            "Hidden Layers:1,  Nodes in HL:8, Best_DevAcc: 67.50, BestModel_test: 72.22, en step: 60.00\n",
            "\n",
            " *** set:  3 cambio de conjunto de sets para trainning/dev/test\n",
            "Hidden Layers:1,  Nodes in HL:16, Best_DevAcc: 77.50, BestModel_test: 69.44, en step: 54.00\n",
            "Hidden Layers:1,  Nodes in HL:32, Best_DevAcc: 80.00, BestModel_test: 77.78, en step: 19.00\n",
            "\n",
            " *** set:  4 cambio de conjunto de sets para trainning/dev/test\n",
            "Hidden Layers:1,  Nodes in HL:8, Best_DevAcc: 75.00, BestModel_test: 75.00, en step: 52.00\n",
            "Hidden Layers:1,  Nodes in HL:16, Best_DevAcc: 67.50, BestModel_test: 75.00, en step: 70.00\n",
            "Hidden Layers:1,  Nodes in HL:32, Best_DevAcc: 72.50, BestModel_test: 75.00, en step: 12.00\n",
            "Hidden Layers:1,  Nodes in HL:64, Best_DevAcc: 77.50, BestModel_test: 80.56, en step: 60.00\n",
            "\n",
            " *** set:  5 cambio de conjunto de sets para trainning/dev/test\n",
            "Hidden Layers:1,  Nodes in HL:8, Best_DevAcc: 65.00, BestModel_test: 80.56, en step: 16.00\n",
            "Hidden Layers:1,  Nodes in HL:64, Best_DevAcc: 67.50, BestModel_test: 83.33, en step: 29.00\n",
            "\n",
            " *** set:  6 cambio de conjunto de sets para trainning/dev/test\n",
            "Hidden Layers:1,  Nodes in HL:8, Best_DevAcc: 72.50, BestModel_test: 55.56, en step: 54.00\n",
            "Hidden Layers:1,  Nodes in HL:16, Best_DevAcc: 82.50, BestModel_test: 75.00, en step: 59.00\n",
            "Hidden Layers:2,  Nodes in HL:64, Best_DevAcc: 75.00, BestModel_test: 75.00, en step: 17.00\n",
            "\n",
            " *** set:  7 cambio de conjunto de sets para trainning/dev/test\n",
            "Hidden Layers:1,  Nodes in HL:8, Best_DevAcc: 65.00, BestModel_test: 61.11, en step: 61.00\n",
            "Hidden Layers:2,  Nodes in HL:8, Best_DevAcc: 77.50, BestModel_test: 63.89, en step: 56.00\n",
            "Hidden Layers:2,  Nodes in HL:16, Best_DevAcc: 75.00, BestModel_test: 66.67, en step: 24.00\n",
            "Hidden Layers:3,  Nodes in HL:16, Best_DevAcc: 77.50, BestModel_test: 66.67, en step: 28.00\n",
            "Hidden Layers:3,  Nodes in HL:64, Best_DevAcc: 80.00, BestModel_test: 66.67, en step: 61.00\n",
            "\n",
            " *** set:  8 cambio de conjunto de sets para trainning/dev/test\n",
            "Hidden Layers:1,  Nodes in HL:8, Best_DevAcc: 52.50, BestModel_test: 50.00, en step: 11.00\n",
            "Hidden Layers:1,  Nodes in HL:16, Best_DevAcc: 77.50, BestModel_test: 75.00, en step: 49.00\n",
            "Hidden Layers:1,  Nodes in HL:32, Best_DevAcc: 82.50, BestModel_test: 77.78, en step: 46.00\n",
            "Hidden Layers:1,  Nodes in HL:64, Best_DevAcc: 82.50, BestModel_test: 80.56, en step: 42.00\n",
            "Hidden Layers:2,  Nodes in HL:32, Best_DevAcc: 77.50, BestModel_test: 80.56, en step: 52.00\n",
            "Hidden Layers:3,  Nodes in HL:32, Best_DevAcc: 77.50, BestModel_test: 83.33, en step: 44.00\n",
            "\n",
            " *** set:  9 cambio de conjunto de sets para trainning/dev/test\n",
            "Hidden Layers:1,  Nodes in HL:16, Best_DevAcc: 72.50, BestModel_test: 50.00, en step: 54.00\n",
            "Hidden Layers:1,  Nodes in HL:64, Best_DevAcc: 70.00, BestModel_test: 69.44, en step: 56.00\n",
            "Hidden Layers:2,  Nodes in HL:64, Best_DevAcc: 67.50, BestModel_test: 69.44, en step: 61.00\n"
          ]
        },
        {
          "output_type": "execute_result",
          "data": {
            "text/plain": [
              "    HL  Hn          TestAcc\n",
              "27   3  32  tensor(83.3333)\n",
              "1    2  16  tensor(80.5556)\n",
              "26   2  32  tensor(80.5556)\n",
              "16   2  64      tensor(75.)\n",
              "30   2  64  tensor(69.4444)\n",
              "19   2  16  tensor(66.6667)\n",
              "20   3  16  tensor(66.6667)\n",
              "21   3  64  tensor(66.6667)"
            ],
            "text/html": [
              "\n",
              "  <div id=\"df-d299b0c7-4cc3-4313-9411-254072f6620b\">\n",
              "    <div class=\"colab-df-container\">\n",
              "      <div>\n",
              "<style scoped>\n",
              "    .dataframe tbody tr th:only-of-type {\n",
              "        vertical-align: middle;\n",
              "    }\n",
              "\n",
              "    .dataframe tbody tr th {\n",
              "        vertical-align: top;\n",
              "    }\n",
              "\n",
              "    .dataframe thead th {\n",
              "        text-align: right;\n",
              "    }\n",
              "</style>\n",
              "<table border=\"1\" class=\"dataframe\">\n",
              "  <thead>\n",
              "    <tr style=\"text-align: right;\">\n",
              "      <th></th>\n",
              "      <th>HL</th>\n",
              "      <th>Hn</th>\n",
              "      <th>TestAcc</th>\n",
              "    </tr>\n",
              "  </thead>\n",
              "  <tbody>\n",
              "    <tr>\n",
              "      <th>27</th>\n",
              "      <td>3</td>\n",
              "      <td>32</td>\n",
              "      <td>tensor(83.3333)</td>\n",
              "    </tr>\n",
              "    <tr>\n",
              "      <th>1</th>\n",
              "      <td>2</td>\n",
              "      <td>16</td>\n",
              "      <td>tensor(80.5556)</td>\n",
              "    </tr>\n",
              "    <tr>\n",
              "      <th>26</th>\n",
              "      <td>2</td>\n",
              "      <td>32</td>\n",
              "      <td>tensor(80.5556)</td>\n",
              "    </tr>\n",
              "    <tr>\n",
              "      <th>16</th>\n",
              "      <td>2</td>\n",
              "      <td>64</td>\n",
              "      <td>tensor(75.)</td>\n",
              "    </tr>\n",
              "    <tr>\n",
              "      <th>30</th>\n",
              "      <td>2</td>\n",
              "      <td>64</td>\n",
              "      <td>tensor(69.4444)</td>\n",
              "    </tr>\n",
              "    <tr>\n",
              "      <th>19</th>\n",
              "      <td>2</td>\n",
              "      <td>16</td>\n",
              "      <td>tensor(66.6667)</td>\n",
              "    </tr>\n",
              "    <tr>\n",
              "      <th>20</th>\n",
              "      <td>3</td>\n",
              "      <td>16</td>\n",
              "      <td>tensor(66.6667)</td>\n",
              "    </tr>\n",
              "    <tr>\n",
              "      <th>21</th>\n",
              "      <td>3</td>\n",
              "      <td>64</td>\n",
              "      <td>tensor(66.6667)</td>\n",
              "    </tr>\n",
              "  </tbody>\n",
              "</table>\n",
              "</div>\n",
              "      <button class=\"colab-df-convert\" onclick=\"convertToInteractive('df-d299b0c7-4cc3-4313-9411-254072f6620b')\"\n",
              "              title=\"Convert this dataframe to an interactive table.\"\n",
              "              style=\"display:none;\">\n",
              "        \n",
              "  <svg xmlns=\"http://www.w3.org/2000/svg\" height=\"24px\"viewBox=\"0 0 24 24\"\n",
              "       width=\"24px\">\n",
              "    <path d=\"M0 0h24v24H0V0z\" fill=\"none\"/>\n",
              "    <path d=\"M18.56 5.44l.94 2.06.94-2.06 2.06-.94-2.06-.94-.94-2.06-.94 2.06-2.06.94zm-11 1L8.5 8.5l.94-2.06 2.06-.94-2.06-.94L8.5 2.5l-.94 2.06-2.06.94zm10 10l.94 2.06.94-2.06 2.06-.94-2.06-.94-.94-2.06-.94 2.06-2.06.94z\"/><path d=\"M17.41 7.96l-1.37-1.37c-.4-.4-.92-.59-1.43-.59-.52 0-1.04.2-1.43.59L10.3 9.45l-7.72 7.72c-.78.78-.78 2.05 0 2.83L4 21.41c.39.39.9.59 1.41.59.51 0 1.02-.2 1.41-.59l7.78-7.78 2.81-2.81c.8-.78.8-2.07 0-2.86zM5.41 20L4 18.59l7.72-7.72 1.47 1.35L5.41 20z\"/>\n",
              "  </svg>\n",
              "      </button>\n",
              "      \n",
              "  <style>\n",
              "    .colab-df-container {\n",
              "      display:flex;\n",
              "      flex-wrap:wrap;\n",
              "      gap: 12px;\n",
              "    }\n",
              "\n",
              "    .colab-df-convert {\n",
              "      background-color: #E8F0FE;\n",
              "      border: none;\n",
              "      border-radius: 50%;\n",
              "      cursor: pointer;\n",
              "      display: none;\n",
              "      fill: #1967D2;\n",
              "      height: 32px;\n",
              "      padding: 0 0 0 0;\n",
              "      width: 32px;\n",
              "    }\n",
              "\n",
              "    .colab-df-convert:hover {\n",
              "      background-color: #E2EBFA;\n",
              "      box-shadow: 0px 1px 2px rgba(60, 64, 67, 0.3), 0px 1px 3px 1px rgba(60, 64, 67, 0.15);\n",
              "      fill: #174EA6;\n",
              "    }\n",
              "\n",
              "    [theme=dark] .colab-df-convert {\n",
              "      background-color: #3B4455;\n",
              "      fill: #D2E3FC;\n",
              "    }\n",
              "\n",
              "    [theme=dark] .colab-df-convert:hover {\n",
              "      background-color: #434B5C;\n",
              "      box-shadow: 0px 1px 3px 1px rgba(0, 0, 0, 0.15);\n",
              "      filter: drop-shadow(0px 1px 2px rgba(0, 0, 0, 0.3));\n",
              "      fill: #FFFFFF;\n",
              "    }\n",
              "  </style>\n",
              "\n",
              "      <script>\n",
              "        const buttonEl =\n",
              "          document.querySelector('#df-d299b0c7-4cc3-4313-9411-254072f6620b button.colab-df-convert');\n",
              "        buttonEl.style.display =\n",
              "          google.colab.kernel.accessAllowed ? 'block' : 'none';\n",
              "\n",
              "        async function convertToInteractive(key) {\n",
              "          const element = document.querySelector('#df-d299b0c7-4cc3-4313-9411-254072f6620b');\n",
              "          const dataTable =\n",
              "            await google.colab.kernel.invokeFunction('convertToInteractive',\n",
              "                                                     [key], {});\n",
              "          if (!dataTable) return;\n",
              "\n",
              "          const docLinkHtml = 'Like what you see? Visit the ' +\n",
              "            '<a target=\"_blank\" href=https://colab.research.google.com/notebooks/data_table.ipynb>data table notebook</a>'\n",
              "            + ' to learn more about interactive tables.';\n",
              "          element.innerHTML = '';\n",
              "          dataTable['output_type'] = 'display_data';\n",
              "          await google.colab.output.renderOutput(dataTable, element);\n",
              "          const docLink = document.createElement('div');\n",
              "          docLink.innerHTML = docLinkHtml;\n",
              "          element.appendChild(docLink);\n",
              "        }\n",
              "      </script>\n",
              "    </div>\n",
              "  </div>\n",
              "  "
            ]
          },
          "metadata": {},
          "execution_count": 16
        }
      ],
      "source": [
        "\n",
        "# run the model\n",
        "#We will run this experiment, using three variables, number of HIDDEN layers, number of node on each one of those hidden (NHIDDEN)\n",
        "# and a repeater to validate results consistency beacuse as you might se, we are not using random_seed\n",
        "# this experiment also has two key characteristics that you can replicate in yours:\n",
        "# ->it shows for each run or experiment, wher the model got the best performance(epch-accuracy) and with which set of params\n",
        "# ->you can adjust a lot of params for regularization, architecture and speed \n",
        "\n",
        "\n",
        "HIDDEN = [1,2,3,4]\n",
        "NHIDDEN = [8, 16, 32, 64]\n",
        "score={'HL':[],\n",
        "    'Hn':[],\n",
        "    'TestAcc':[]}\n",
        "\n",
        "train_loader, dev_loader, test_loader = splitData([0.745,0.135], 10, x, labels, verbose=True )\n",
        "\n",
        "for i in range(10):\n",
        "  Bench = 0.0  \n",
        "  print('\\n *** set: ', i, 'cambio de conjunto de sets para trainning/dev/test')   \n",
        "  \n",
        "  for h in HIDDEN:\n",
        "    for nh in NHIDDEN:\n",
        "      n = binaryRegNet(nImputs=xNum, nOutputs=labelsNum, hidden=h, nHidden=nh, dr=0)\n",
        "      trainAcc,devAcc,losses,theBestModel = n.fit(train_loader=train_loader, dev_loader=dev_loader, numepochs=75, learningRate=0.0001, weight_decay=0.1, draw=False)\n",
        "      yHat, bestAcc = n.testModel(theBestModel, test_loader)\n",
        "      if (Bench <= bestAcc.float() and theBestModel['epoch']>10):\n",
        "        print(f\"Hidden Layers:{h},  Nodes in HL:{nh}, Best_DevAcc: {theBestModel['Accuracy']:.2f}, BestModel_test: {bestAcc.float():.2f}, en step: {theBestModel['epoch']:.2f}\")\n",
        "        Bench = bestAcc.float()\n",
        "        score['HL'].append(h)\n",
        "        score['Hn'].append(nh)\n",
        "        score['TestAcc'].append(bestAcc.float())\n",
        "\n",
        "  train_loader, dev_loader, test_loader = splitData([0.745,0.135], 10, x, labels, verbose=False )\n",
        "\n",
        "score = pd.DataFrame(score)\n",
        "score[(score['HL']!=1) & (score['Hn']!=8)].sort_values(['TestAcc'], ascending=False)"
      ]
    },
    {
      "cell_type": "code",
      "source": [],
      "metadata": {
        "id": "dHZiIP9YDQWe"
      },
      "execution_count": 16,
      "outputs": []
    },
    {
      "cell_type": "code",
      "execution_count": 16,
      "metadata": {
        "id": "zmX6K49WMNuy"
      },
      "outputs": [],
      "source": []
    },
    {
      "cell_type": "code",
      "source": [],
      "metadata": {
        "id": "ExIaDXeOvZ7X"
      },
      "execution_count": 16,
      "outputs": []
    },
    {
      "cell_type": "code",
      "execution_count": 17,
      "metadata": {
        "id": "kEhRBQlangOL",
        "colab": {
          "base_uri": "https://localhost:8080/"
        },
        "outputId": "a50aae82-c2f3-41d6-87ae-4f442a24f726"
      },
      "outputs": [
        {
          "output_type": "stream",
          "name": "stdout",
          "text": [
            "Accuracy Devset: 65.0\n",
            "Accuracy Test: 61.11111068725586\n",
            "On iteration:  2\n"
          ]
        }
      ],
      "source": [
        "print('Accuracy Devset:', theBestModel['Accuracy'])\n",
        "yHat, bestAcc = n.testModel(theBestModel, test_loader)\n",
        "print('Accuracy Test:', float(bestAcc))\n",
        "print('On iteration: ', theBestModel['epoch'])\n"
      ]
    },
    {
      "cell_type": "code",
      "source": [
        "print(torch.exp(yHat[:5]),test_loader.dataset.tensors[1][:5])"
      ],
      "metadata": {
        "id": "mVpzBpf6JQzR",
        "colab": {
          "base_uri": "https://localhost:8080/"
        },
        "outputId": "536a05a0-f83a-46a9-a4cd-74b827ef8db5"
      },
      "execution_count": 18,
      "outputs": [
        {
          "output_type": "stream",
          "name": "stdout",
          "text": [
            "tensor([[0.3908, 0.3310],\n",
            "        [0.3197, 0.3674],\n",
            "        [0.3878, 0.3304],\n",
            "        [0.3002, 0.3433],\n",
            "        [0.4458, 0.3069]], grad_fn=<ExpBackward0>) tensor([1, 1, 1, 1, 0])\n"
          ]
        }
      ]
    },
    {
      "cell_type": "code",
      "execution_count": 19,
      "metadata": {
        "id": "UOoayAFmpnRZ",
        "colab": {
          "base_uri": "https://localhost:8080/",
          "height": 464
        },
        "outputId": "6de37732-4b1c-4ca6-a9fb-6bf45c95997f"
      },
      "outputs": [
        {
          "output_type": "display_data",
          "data": {
            "text/plain": [
              "<Figure size 720x360 with 1 Axes>"
            ],
            "image/svg+xml": "<?xml version=\"1.0\" encoding=\"utf-8\" standalone=\"no\"?>\n<!DOCTYPE svg PUBLIC \"-//W3C//DTD SVG 1.1//EN\"\n  \"http://www.w3.org/Graphics/SVG/1.1/DTD/svg11.dtd\">\n<!-- Created with matplotlib (https://matplotlib.org/) -->\n<svg height=\"331.674375pt\" version=\"1.1\" viewBox=\"0 0 605.803125 331.674375\" width=\"605.803125pt\" xmlns=\"http://www.w3.org/2000/svg\" xmlns:xlink=\"http://www.w3.org/1999/xlink\">\n <defs>\n  <style type=\"text/css\">\n*{stroke-linecap:butt;stroke-linejoin:round;}\n  </style>\n </defs>\n <g id=\"figure_1\">\n  <g id=\"patch_1\">\n   <path d=\"M 0 331.674375 \nL 605.803125 331.674375 \nL 605.803125 0 \nL 0 0 \nz\n\" style=\"fill:none;\"/>\n  </g>\n  <g id=\"axes_1\">\n   <g id=\"patch_2\">\n    <path d=\"M 40.603125 294.118125 \nL 598.603125 294.118125 \nL 598.603125 22.318125 \nL 40.603125 22.318125 \nz\n\" style=\"fill:#ffffff;\"/>\n   </g>\n   <g id=\"matplotlib.axis_1\">\n    <g id=\"xtick_1\">\n     <g id=\"line2d_1\">\n      <defs>\n       <path d=\"M 0 0 \nL 0 3.5 \n\" id=\"m2c0c5f2294\" style=\"stroke:#000000;stroke-width:0.8;\"/>\n      </defs>\n      <g>\n       <use style=\"stroke:#000000;stroke-width:0.8;\" x=\"65.966761\" xlink:href=\"#m2c0c5f2294\" y=\"294.118125\"/>\n      </g>\n     </g>\n     <g id=\"text_1\">\n      <!-- 0 -->\n      <defs>\n       <path d=\"M 31.78125 66.40625 \nQ 24.171875 66.40625 20.328125 58.90625 \nQ 16.5 51.421875 16.5 36.375 \nQ 16.5 21.390625 20.328125 13.890625 \nQ 24.171875 6.390625 31.78125 6.390625 \nQ 39.453125 6.390625 43.28125 13.890625 \nQ 47.125 21.390625 47.125 36.375 \nQ 47.125 51.421875 43.28125 58.90625 \nQ 39.453125 66.40625 31.78125 66.40625 \nz\nM 31.78125 74.21875 \nQ 44.046875 74.21875 50.515625 64.515625 \nQ 56.984375 54.828125 56.984375 36.375 \nQ 56.984375 17.96875 50.515625 8.265625 \nQ 44.046875 -1.421875 31.78125 -1.421875 \nQ 19.53125 -1.421875 13.0625 8.265625 \nQ 6.59375 17.96875 6.59375 36.375 \nQ 6.59375 54.828125 13.0625 64.515625 \nQ 19.53125 74.21875 31.78125 74.21875 \nz\n\" id=\"DejaVuSans-48\"/>\n      </defs>\n      <g transform=\"translate(62.785511 308.716563)scale(0.1 -0.1)\">\n       <use xlink:href=\"#DejaVuSans-48\"/>\n      </g>\n     </g>\n    </g>\n    <g id=\"xtick_2\">\n     <g id=\"line2d_2\">\n      <g>\n       <use style=\"stroke:#000000;stroke-width:0.8;\" x=\"133.603125\" xlink:href=\"#m2c0c5f2294\" y=\"294.118125\"/>\n      </g>\n     </g>\n     <g id=\"text_2\">\n      <!-- 10 -->\n      <defs>\n       <path d=\"M 12.40625 8.296875 \nL 28.515625 8.296875 \nL 28.515625 63.921875 \nL 10.984375 60.40625 \nL 10.984375 69.390625 \nL 28.421875 72.90625 \nL 38.28125 72.90625 \nL 38.28125 8.296875 \nL 54.390625 8.296875 \nL 54.390625 0 \nL 12.40625 0 \nz\n\" id=\"DejaVuSans-49\"/>\n      </defs>\n      <g transform=\"translate(127.240625 308.716563)scale(0.1 -0.1)\">\n       <use xlink:href=\"#DejaVuSans-49\"/>\n       <use x=\"63.623047\" xlink:href=\"#DejaVuSans-48\"/>\n      </g>\n     </g>\n    </g>\n    <g id=\"xtick_3\">\n     <g id=\"line2d_3\">\n      <g>\n       <use style=\"stroke:#000000;stroke-width:0.8;\" x=\"201.239489\" xlink:href=\"#m2c0c5f2294\" y=\"294.118125\"/>\n      </g>\n     </g>\n     <g id=\"text_3\">\n      <!-- 20 -->\n      <defs>\n       <path d=\"M 19.1875 8.296875 \nL 53.609375 8.296875 \nL 53.609375 0 \nL 7.328125 0 \nL 7.328125 8.296875 \nQ 12.9375 14.109375 22.625 23.890625 \nQ 32.328125 33.6875 34.8125 36.53125 \nQ 39.546875 41.84375 41.421875 45.53125 \nQ 43.3125 49.21875 43.3125 52.78125 \nQ 43.3125 58.59375 39.234375 62.25 \nQ 35.15625 65.921875 28.609375 65.921875 \nQ 23.96875 65.921875 18.8125 64.3125 \nQ 13.671875 62.703125 7.8125 59.421875 \nL 7.8125 69.390625 \nQ 13.765625 71.78125 18.9375 73 \nQ 24.125 74.21875 28.421875 74.21875 \nQ 39.75 74.21875 46.484375 68.546875 \nQ 53.21875 62.890625 53.21875 53.421875 \nQ 53.21875 48.921875 51.53125 44.890625 \nQ 49.859375 40.875 45.40625 35.40625 \nQ 44.1875 33.984375 37.640625 27.21875 \nQ 31.109375 20.453125 19.1875 8.296875 \nz\n\" id=\"DejaVuSans-50\"/>\n      </defs>\n      <g transform=\"translate(194.876989 308.716563)scale(0.1 -0.1)\">\n       <use xlink:href=\"#DejaVuSans-50\"/>\n       <use x=\"63.623047\" xlink:href=\"#DejaVuSans-48\"/>\n      </g>\n     </g>\n    </g>\n    <g id=\"xtick_4\">\n     <g id=\"line2d_4\">\n      <g>\n       <use style=\"stroke:#000000;stroke-width:0.8;\" x=\"268.875852\" xlink:href=\"#m2c0c5f2294\" y=\"294.118125\"/>\n      </g>\n     </g>\n     <g id=\"text_4\">\n      <!-- 30 -->\n      <defs>\n       <path d=\"M 40.578125 39.3125 \nQ 47.65625 37.796875 51.625 33 \nQ 55.609375 28.21875 55.609375 21.1875 \nQ 55.609375 10.40625 48.1875 4.484375 \nQ 40.765625 -1.421875 27.09375 -1.421875 \nQ 22.515625 -1.421875 17.65625 -0.515625 \nQ 12.796875 0.390625 7.625 2.203125 \nL 7.625 11.71875 \nQ 11.71875 9.328125 16.59375 8.109375 \nQ 21.484375 6.890625 26.8125 6.890625 \nQ 36.078125 6.890625 40.9375 10.546875 \nQ 45.796875 14.203125 45.796875 21.1875 \nQ 45.796875 27.640625 41.28125 31.265625 \nQ 36.765625 34.90625 28.71875 34.90625 \nL 20.21875 34.90625 \nL 20.21875 43.015625 \nL 29.109375 43.015625 \nQ 36.375 43.015625 40.234375 45.921875 \nQ 44.09375 48.828125 44.09375 54.296875 \nQ 44.09375 59.90625 40.109375 62.90625 \nQ 36.140625 65.921875 28.71875 65.921875 \nQ 24.65625 65.921875 20.015625 65.03125 \nQ 15.375 64.15625 9.8125 62.3125 \nL 9.8125 71.09375 \nQ 15.4375 72.65625 20.34375 73.4375 \nQ 25.25 74.21875 29.59375 74.21875 \nQ 40.828125 74.21875 47.359375 69.109375 \nQ 53.90625 64.015625 53.90625 55.328125 \nQ 53.90625 49.265625 50.4375 45.09375 \nQ 46.96875 40.921875 40.578125 39.3125 \nz\n\" id=\"DejaVuSans-51\"/>\n      </defs>\n      <g transform=\"translate(262.513352 308.716563)scale(0.1 -0.1)\">\n       <use xlink:href=\"#DejaVuSans-51\"/>\n       <use x=\"63.623047\" xlink:href=\"#DejaVuSans-48\"/>\n      </g>\n     </g>\n    </g>\n    <g id=\"xtick_5\">\n     <g id=\"line2d_5\">\n      <g>\n       <use style=\"stroke:#000000;stroke-width:0.8;\" x=\"336.512216\" xlink:href=\"#m2c0c5f2294\" y=\"294.118125\"/>\n      </g>\n     </g>\n     <g id=\"text_5\">\n      <!-- 40 -->\n      <defs>\n       <path d=\"M 37.796875 64.3125 \nL 12.890625 25.390625 \nL 37.796875 25.390625 \nz\nM 35.203125 72.90625 \nL 47.609375 72.90625 \nL 47.609375 25.390625 \nL 58.015625 25.390625 \nL 58.015625 17.1875 \nL 47.609375 17.1875 \nL 47.609375 0 \nL 37.796875 0 \nL 37.796875 17.1875 \nL 4.890625 17.1875 \nL 4.890625 26.703125 \nz\n\" id=\"DejaVuSans-52\"/>\n      </defs>\n      <g transform=\"translate(330.149716 308.716563)scale(0.1 -0.1)\">\n       <use xlink:href=\"#DejaVuSans-52\"/>\n       <use x=\"63.623047\" xlink:href=\"#DejaVuSans-48\"/>\n      </g>\n     </g>\n    </g>\n    <g id=\"xtick_6\">\n     <g id=\"line2d_6\">\n      <g>\n       <use style=\"stroke:#000000;stroke-width:0.8;\" x=\"404.14858\" xlink:href=\"#m2c0c5f2294\" y=\"294.118125\"/>\n      </g>\n     </g>\n     <g id=\"text_6\">\n      <!-- 50 -->\n      <defs>\n       <path d=\"M 10.796875 72.90625 \nL 49.515625 72.90625 \nL 49.515625 64.59375 \nL 19.828125 64.59375 \nL 19.828125 46.734375 \nQ 21.96875 47.46875 24.109375 47.828125 \nQ 26.265625 48.1875 28.421875 48.1875 \nQ 40.625 48.1875 47.75 41.5 \nQ 54.890625 34.8125 54.890625 23.390625 \nQ 54.890625 11.625 47.5625 5.09375 \nQ 40.234375 -1.421875 26.90625 -1.421875 \nQ 22.3125 -1.421875 17.546875 -0.640625 \nQ 12.796875 0.140625 7.71875 1.703125 \nL 7.71875 11.625 \nQ 12.109375 9.234375 16.796875 8.0625 \nQ 21.484375 6.890625 26.703125 6.890625 \nQ 35.15625 6.890625 40.078125 11.328125 \nQ 45.015625 15.765625 45.015625 23.390625 \nQ 45.015625 31 40.078125 35.4375 \nQ 35.15625 39.890625 26.703125 39.890625 \nQ 22.75 39.890625 18.8125 39.015625 \nQ 14.890625 38.140625 10.796875 36.28125 \nz\n\" id=\"DejaVuSans-53\"/>\n      </defs>\n      <g transform=\"translate(397.78608 308.716563)scale(0.1 -0.1)\">\n       <use xlink:href=\"#DejaVuSans-53\"/>\n       <use x=\"63.623047\" xlink:href=\"#DejaVuSans-48\"/>\n      </g>\n     </g>\n    </g>\n    <g id=\"xtick_7\">\n     <g id=\"line2d_7\">\n      <g>\n       <use style=\"stroke:#000000;stroke-width:0.8;\" x=\"471.784943\" xlink:href=\"#m2c0c5f2294\" y=\"294.118125\"/>\n      </g>\n     </g>\n     <g id=\"text_7\">\n      <!-- 60 -->\n      <defs>\n       <path d=\"M 33.015625 40.375 \nQ 26.375 40.375 22.484375 35.828125 \nQ 18.609375 31.296875 18.609375 23.390625 \nQ 18.609375 15.53125 22.484375 10.953125 \nQ 26.375 6.390625 33.015625 6.390625 \nQ 39.65625 6.390625 43.53125 10.953125 \nQ 47.40625 15.53125 47.40625 23.390625 \nQ 47.40625 31.296875 43.53125 35.828125 \nQ 39.65625 40.375 33.015625 40.375 \nz\nM 52.59375 71.296875 \nL 52.59375 62.3125 \nQ 48.875 64.0625 45.09375 64.984375 \nQ 41.3125 65.921875 37.59375 65.921875 \nQ 27.828125 65.921875 22.671875 59.328125 \nQ 17.53125 52.734375 16.796875 39.40625 \nQ 19.671875 43.65625 24.015625 45.921875 \nQ 28.375 48.1875 33.59375 48.1875 \nQ 44.578125 48.1875 50.953125 41.515625 \nQ 57.328125 34.859375 57.328125 23.390625 \nQ 57.328125 12.15625 50.6875 5.359375 \nQ 44.046875 -1.421875 33.015625 -1.421875 \nQ 20.359375 -1.421875 13.671875 8.265625 \nQ 6.984375 17.96875 6.984375 36.375 \nQ 6.984375 53.65625 15.1875 63.9375 \nQ 23.390625 74.21875 37.203125 74.21875 \nQ 40.921875 74.21875 44.703125 73.484375 \nQ 48.484375 72.75 52.59375 71.296875 \nz\n\" id=\"DejaVuSans-54\"/>\n      </defs>\n      <g transform=\"translate(465.422443 308.716563)scale(0.1 -0.1)\">\n       <use xlink:href=\"#DejaVuSans-54\"/>\n       <use x=\"63.623047\" xlink:href=\"#DejaVuSans-48\"/>\n      </g>\n     </g>\n    </g>\n    <g id=\"xtick_8\">\n     <g id=\"line2d_8\">\n      <g>\n       <use style=\"stroke:#000000;stroke-width:0.8;\" x=\"539.421307\" xlink:href=\"#m2c0c5f2294\" y=\"294.118125\"/>\n      </g>\n     </g>\n     <g id=\"text_8\">\n      <!-- 70 -->\n      <defs>\n       <path d=\"M 8.203125 72.90625 \nL 55.078125 72.90625 \nL 55.078125 68.703125 \nL 28.609375 0 \nL 18.3125 0 \nL 43.21875 64.59375 \nL 8.203125 64.59375 \nz\n\" id=\"DejaVuSans-55\"/>\n      </defs>\n      <g transform=\"translate(533.058807 308.716563)scale(0.1 -0.1)\">\n       <use xlink:href=\"#DejaVuSans-55\"/>\n       <use x=\"63.623047\" xlink:href=\"#DejaVuSans-48\"/>\n      </g>\n     </g>\n    </g>\n    <g id=\"text_9\">\n     <!-- Epoch -->\n     <defs>\n      <path d=\"M 9.8125 72.90625 \nL 55.90625 72.90625 \nL 55.90625 64.59375 \nL 19.671875 64.59375 \nL 19.671875 43.015625 \nL 54.390625 43.015625 \nL 54.390625 34.71875 \nL 19.671875 34.71875 \nL 19.671875 8.296875 \nL 56.78125 8.296875 \nL 56.78125 0 \nL 9.8125 0 \nz\n\" id=\"DejaVuSans-69\"/>\n      <path d=\"M 18.109375 8.203125 \nL 18.109375 -20.796875 \nL 9.078125 -20.796875 \nL 9.078125 54.6875 \nL 18.109375 54.6875 \nL 18.109375 46.390625 \nQ 20.953125 51.265625 25.265625 53.625 \nQ 29.59375 56 35.59375 56 \nQ 45.5625 56 51.78125 48.09375 \nQ 58.015625 40.1875 58.015625 27.296875 \nQ 58.015625 14.40625 51.78125 6.484375 \nQ 45.5625 -1.421875 35.59375 -1.421875 \nQ 29.59375 -1.421875 25.265625 0.953125 \nQ 20.953125 3.328125 18.109375 8.203125 \nz\nM 48.6875 27.296875 \nQ 48.6875 37.203125 44.609375 42.84375 \nQ 40.53125 48.484375 33.40625 48.484375 \nQ 26.265625 48.484375 22.1875 42.84375 \nQ 18.109375 37.203125 18.109375 27.296875 \nQ 18.109375 17.390625 22.1875 11.75 \nQ 26.265625 6.109375 33.40625 6.109375 \nQ 40.53125 6.109375 44.609375 11.75 \nQ 48.6875 17.390625 48.6875 27.296875 \nz\n\" id=\"DejaVuSans-112\"/>\n      <path d=\"M 30.609375 48.390625 \nQ 23.390625 48.390625 19.1875 42.75 \nQ 14.984375 37.109375 14.984375 27.296875 \nQ 14.984375 17.484375 19.15625 11.84375 \nQ 23.34375 6.203125 30.609375 6.203125 \nQ 37.796875 6.203125 41.984375 11.859375 \nQ 46.1875 17.53125 46.1875 27.296875 \nQ 46.1875 37.015625 41.984375 42.703125 \nQ 37.796875 48.390625 30.609375 48.390625 \nz\nM 30.609375 56 \nQ 42.328125 56 49.015625 48.375 \nQ 55.71875 40.765625 55.71875 27.296875 \nQ 55.71875 13.875 49.015625 6.21875 \nQ 42.328125 -1.421875 30.609375 -1.421875 \nQ 18.84375 -1.421875 12.171875 6.21875 \nQ 5.515625 13.875 5.515625 27.296875 \nQ 5.515625 40.765625 12.171875 48.375 \nQ 18.84375 56 30.609375 56 \nz\n\" id=\"DejaVuSans-111\"/>\n      <path d=\"M 48.78125 52.59375 \nL 48.78125 44.1875 \nQ 44.96875 46.296875 41.140625 47.34375 \nQ 37.3125 48.390625 33.40625 48.390625 \nQ 24.65625 48.390625 19.8125 42.84375 \nQ 14.984375 37.3125 14.984375 27.296875 \nQ 14.984375 17.28125 19.8125 11.734375 \nQ 24.65625 6.203125 33.40625 6.203125 \nQ 37.3125 6.203125 41.140625 7.25 \nQ 44.96875 8.296875 48.78125 10.40625 \nL 48.78125 2.09375 \nQ 45.015625 0.34375 40.984375 -0.53125 \nQ 36.96875 -1.421875 32.421875 -1.421875 \nQ 20.0625 -1.421875 12.78125 6.34375 \nQ 5.515625 14.109375 5.515625 27.296875 \nQ 5.515625 40.671875 12.859375 48.328125 \nQ 20.21875 56 33.015625 56 \nQ 37.15625 56 41.109375 55.140625 \nQ 45.0625 54.296875 48.78125 52.59375 \nz\n\" id=\"DejaVuSans-99\"/>\n      <path d=\"M 54.890625 33.015625 \nL 54.890625 0 \nL 45.90625 0 \nL 45.90625 32.71875 \nQ 45.90625 40.484375 42.875 44.328125 \nQ 39.84375 48.1875 33.796875 48.1875 \nQ 26.515625 48.1875 22.3125 43.546875 \nQ 18.109375 38.921875 18.109375 30.90625 \nL 18.109375 0 \nL 9.078125 0 \nL 9.078125 75.984375 \nL 18.109375 75.984375 \nL 18.109375 46.1875 \nQ 21.34375 51.125 25.703125 53.5625 \nQ 30.078125 56 35.796875 56 \nQ 45.21875 56 50.046875 50.171875 \nQ 54.890625 44.34375 54.890625 33.015625 \nz\n\" id=\"DejaVuSans-104\"/>\n     </defs>\n     <g transform=\"translate(304.292187 322.394687)scale(0.1 -0.1)\">\n      <use xlink:href=\"#DejaVuSans-69\"/>\n      <use x=\"63.183594\" xlink:href=\"#DejaVuSans-112\"/>\n      <use x=\"126.660156\" xlink:href=\"#DejaVuSans-111\"/>\n      <use x=\"187.841797\" xlink:href=\"#DejaVuSans-99\"/>\n      <use x=\"242.822266\" xlink:href=\"#DejaVuSans-104\"/>\n     </g>\n    </g>\n   </g>\n   <g id=\"matplotlib.axis_2\">\n    <g id=\"ytick_1\">\n     <g id=\"line2d_9\">\n      <defs>\n       <path d=\"M 0 0 \nL -3.5 0 \n\" id=\"mbad1d3cc98\" style=\"stroke:#000000;stroke-width:0.8;\"/>\n      </defs>\n      <g>\n       <use style=\"stroke:#000000;stroke-width:0.8;\" x=\"40.603125\" xlink:href=\"#mbad1d3cc98\" y=\"241.422197\"/>\n      </g>\n     </g>\n     <g id=\"text_10\">\n      <!-- 55 -->\n      <g transform=\"translate(20.878125 245.221416)scale(0.1 -0.1)\">\n       <use xlink:href=\"#DejaVuSans-53\"/>\n       <use x=\"63.623047\" xlink:href=\"#DejaVuSans-53\"/>\n      </g>\n     </g>\n    </g>\n    <g id=\"ytick_2\">\n     <g id=\"line2d_10\">\n      <g>\n       <use style=\"stroke:#000000;stroke-width:0.8;\" x=\"40.603125\" xlink:href=\"#mbad1d3cc98\" y=\"185.952802\"/>\n      </g>\n     </g>\n     <g id=\"text_11\">\n      <!-- 60 -->\n      <g transform=\"translate(20.878125 189.75202)scale(0.1 -0.1)\">\n       <use xlink:href=\"#DejaVuSans-54\"/>\n       <use x=\"63.623047\" xlink:href=\"#DejaVuSans-48\"/>\n      </g>\n     </g>\n    </g>\n    <g id=\"ytick_3\">\n     <g id=\"line2d_11\">\n      <g>\n       <use style=\"stroke:#000000;stroke-width:0.8;\" x=\"40.603125\" xlink:href=\"#mbad1d3cc98\" y=\"130.483406\"/>\n      </g>\n     </g>\n     <g id=\"text_12\">\n      <!-- 65 -->\n      <g transform=\"translate(20.878125 134.282625)scale(0.1 -0.1)\">\n       <use xlink:href=\"#DejaVuSans-54\"/>\n       <use x=\"63.623047\" xlink:href=\"#DejaVuSans-53\"/>\n      </g>\n     </g>\n    </g>\n    <g id=\"ytick_4\">\n     <g id=\"line2d_12\">\n      <g>\n       <use style=\"stroke:#000000;stroke-width:0.8;\" x=\"40.603125\" xlink:href=\"#mbad1d3cc98\" y=\"75.014011\"/>\n      </g>\n     </g>\n     <g id=\"text_13\">\n      <!-- 70 -->\n      <g transform=\"translate(20.878125 78.813229)scale(0.1 -0.1)\">\n       <use xlink:href=\"#DejaVuSans-55\"/>\n       <use x=\"63.623047\" xlink:href=\"#DejaVuSans-48\"/>\n      </g>\n     </g>\n    </g>\n    <g id=\"text_14\">\n     <!-- Accuracy (%) -->\n     <defs>\n      <path d=\"M 34.1875 63.1875 \nL 20.796875 26.90625 \nL 47.609375 26.90625 \nz\nM 28.609375 72.90625 \nL 39.796875 72.90625 \nL 67.578125 0 \nL 57.328125 0 \nL 50.6875 18.703125 \nL 17.828125 18.703125 \nL 11.1875 0 \nL 0.78125 0 \nz\n\" id=\"DejaVuSans-65\"/>\n      <path d=\"M 8.5 21.578125 \nL 8.5 54.6875 \nL 17.484375 54.6875 \nL 17.484375 21.921875 \nQ 17.484375 14.15625 20.5 10.265625 \nQ 23.53125 6.390625 29.59375 6.390625 \nQ 36.859375 6.390625 41.078125 11.03125 \nQ 45.3125 15.671875 45.3125 23.6875 \nL 45.3125 54.6875 \nL 54.296875 54.6875 \nL 54.296875 0 \nL 45.3125 0 \nL 45.3125 8.40625 \nQ 42.046875 3.421875 37.71875 1 \nQ 33.40625 -1.421875 27.6875 -1.421875 \nQ 18.265625 -1.421875 13.375 4.4375 \nQ 8.5 10.296875 8.5 21.578125 \nz\nM 31.109375 56 \nz\n\" id=\"DejaVuSans-117\"/>\n      <path d=\"M 41.109375 46.296875 \nQ 39.59375 47.171875 37.8125 47.578125 \nQ 36.03125 48 33.890625 48 \nQ 26.265625 48 22.1875 43.046875 \nQ 18.109375 38.09375 18.109375 28.8125 \nL 18.109375 0 \nL 9.078125 0 \nL 9.078125 54.6875 \nL 18.109375 54.6875 \nL 18.109375 46.1875 \nQ 20.953125 51.171875 25.484375 53.578125 \nQ 30.03125 56 36.53125 56 \nQ 37.453125 56 38.578125 55.875 \nQ 39.703125 55.765625 41.0625 55.515625 \nz\n\" id=\"DejaVuSans-114\"/>\n      <path d=\"M 34.28125 27.484375 \nQ 23.390625 27.484375 19.1875 25 \nQ 14.984375 22.515625 14.984375 16.5 \nQ 14.984375 11.71875 18.140625 8.90625 \nQ 21.296875 6.109375 26.703125 6.109375 \nQ 34.1875 6.109375 38.703125 11.40625 \nQ 43.21875 16.703125 43.21875 25.484375 \nL 43.21875 27.484375 \nz\nM 52.203125 31.203125 \nL 52.203125 0 \nL 43.21875 0 \nL 43.21875 8.296875 \nQ 40.140625 3.328125 35.546875 0.953125 \nQ 30.953125 -1.421875 24.3125 -1.421875 \nQ 15.921875 -1.421875 10.953125 3.296875 \nQ 6 8.015625 6 15.921875 \nQ 6 25.140625 12.171875 29.828125 \nQ 18.359375 34.515625 30.609375 34.515625 \nL 43.21875 34.515625 \nL 43.21875 35.40625 \nQ 43.21875 41.609375 39.140625 45 \nQ 35.0625 48.390625 27.6875 48.390625 \nQ 23 48.390625 18.546875 47.265625 \nQ 14.109375 46.140625 10.015625 43.890625 \nL 10.015625 52.203125 \nQ 14.9375 54.109375 19.578125 55.046875 \nQ 24.21875 56 28.609375 56 \nQ 40.484375 56 46.34375 49.84375 \nQ 52.203125 43.703125 52.203125 31.203125 \nz\n\" id=\"DejaVuSans-97\"/>\n      <path d=\"M 32.171875 -5.078125 \nQ 28.375 -14.84375 24.75 -17.8125 \nQ 21.140625 -20.796875 15.09375 -20.796875 \nL 7.90625 -20.796875 \nL 7.90625 -13.28125 \nL 13.1875 -13.28125 \nQ 16.890625 -13.28125 18.9375 -11.515625 \nQ 21 -9.765625 23.484375 -3.21875 \nL 25.09375 0.875 \nL 2.984375 54.6875 \nL 12.5 54.6875 \nL 29.59375 11.921875 \nL 46.6875 54.6875 \nL 56.203125 54.6875 \nz\n\" id=\"DejaVuSans-121\"/>\n      <path id=\"DejaVuSans-32\"/>\n      <path d=\"M 31 75.875 \nQ 24.46875 64.65625 21.28125 53.65625 \nQ 18.109375 42.671875 18.109375 31.390625 \nQ 18.109375 20.125 21.3125 9.0625 \nQ 24.515625 -2 31 -13.1875 \nL 23.1875 -13.1875 \nQ 15.875 -1.703125 12.234375 9.375 \nQ 8.59375 20.453125 8.59375 31.390625 \nQ 8.59375 42.28125 12.203125 53.3125 \nQ 15.828125 64.359375 23.1875 75.875 \nz\n\" id=\"DejaVuSans-40\"/>\n      <path d=\"M 72.703125 32.078125 \nQ 68.453125 32.078125 66.03125 28.46875 \nQ 63.625 24.859375 63.625 18.40625 \nQ 63.625 12.0625 66.03125 8.421875 \nQ 68.453125 4.78125 72.703125 4.78125 \nQ 76.859375 4.78125 79.265625 8.421875 \nQ 81.6875 12.0625 81.6875 18.40625 \nQ 81.6875 24.8125 79.265625 28.4375 \nQ 76.859375 32.078125 72.703125 32.078125 \nz\nM 72.703125 38.28125 \nQ 80.421875 38.28125 84.953125 32.90625 \nQ 89.5 27.546875 89.5 18.40625 \nQ 89.5 9.28125 84.9375 3.921875 \nQ 80.375 -1.421875 72.703125 -1.421875 \nQ 64.890625 -1.421875 60.34375 3.921875 \nQ 55.8125 9.28125 55.8125 18.40625 \nQ 55.8125 27.59375 60.375 32.9375 \nQ 64.9375 38.28125 72.703125 38.28125 \nz\nM 22.3125 68.015625 \nQ 18.109375 68.015625 15.6875 64.375 \nQ 13.28125 60.75 13.28125 54.390625 \nQ 13.28125 47.953125 15.671875 44.328125 \nQ 18.0625 40.71875 22.3125 40.71875 \nQ 26.5625 40.71875 28.96875 44.328125 \nQ 31.390625 47.953125 31.390625 54.390625 \nQ 31.390625 60.6875 28.953125 64.34375 \nQ 26.515625 68.015625 22.3125 68.015625 \nz\nM 66.40625 74.21875 \nL 74.21875 74.21875 \nL 28.609375 -1.421875 \nL 20.796875 -1.421875 \nz\nM 22.3125 74.21875 \nQ 30.03125 74.21875 34.609375 68.875 \nQ 39.203125 63.53125 39.203125 54.390625 \nQ 39.203125 45.171875 34.640625 39.84375 \nQ 30.078125 34.515625 22.3125 34.515625 \nQ 14.546875 34.515625 10.03125 39.859375 \nQ 5.515625 45.21875 5.515625 54.390625 \nQ 5.515625 63.484375 10.046875 68.84375 \nQ 14.59375 74.21875 22.3125 74.21875 \nz\n\" id=\"DejaVuSans-37\"/>\n      <path d=\"M 8.015625 75.875 \nL 15.828125 75.875 \nQ 23.140625 64.359375 26.78125 53.3125 \nQ 30.421875 42.28125 30.421875 31.390625 \nQ 30.421875 20.453125 26.78125 9.375 \nQ 23.140625 -1.703125 15.828125 -13.1875 \nL 8.015625 -13.1875 \nQ 14.5 -2 17.703125 9.0625 \nQ 20.90625 20.125 20.90625 31.390625 \nQ 20.90625 42.671875 17.703125 53.65625 \nQ 14.5 64.65625 8.015625 75.875 \nz\n\" id=\"DejaVuSans-41\"/>\n     </defs>\n     <g transform=\"translate(14.798437 191.287656)rotate(-90)scale(0.1 -0.1)\">\n      <use xlink:href=\"#DejaVuSans-65\"/>\n      <use x=\"66.658203\" xlink:href=\"#DejaVuSans-99\"/>\n      <use x=\"121.638672\" xlink:href=\"#DejaVuSans-99\"/>\n      <use x=\"176.619141\" xlink:href=\"#DejaVuSans-117\"/>\n      <use x=\"239.998047\" xlink:href=\"#DejaVuSans-114\"/>\n      <use x=\"281.111328\" xlink:href=\"#DejaVuSans-97\"/>\n      <use x=\"342.390625\" xlink:href=\"#DejaVuSans-99\"/>\n      <use x=\"397.371094\" xlink:href=\"#DejaVuSans-121\"/>\n      <use x=\"456.550781\" xlink:href=\"#DejaVuSans-32\"/>\n      <use x=\"488.337891\" xlink:href=\"#DejaVuSans-40\"/>\n      <use x=\"527.351562\" xlink:href=\"#DejaVuSans-37\"/>\n      <use x=\"622.371094\" xlink:href=\"#DejaVuSans-41\"/>\n     </g>\n    </g>\n   </g>\n   <g id=\"line2d_13\">\n    <path clip-path=\"url(#pcc58a27152)\" d=\"M 65.966761 281.76358 \nL 72.730398 206.123472 \nL 79.494034 140.56872 \nL 86.25767 135.526063 \nL 93.021307 145.611419 \nL 99.784943 135.526063 \nL 106.54858 115.355351 \nL 113.312216 100.22738 \nL 120.075852 110.312694 \nL 126.839489 100.22738 \nL 133.603125 105.270037 \nL 140.366761 110.312694 \nL 147.130398 120.398092 \nL 153.894034 110.312694 \nL 160.65767 100.22738 \nL 167.421307 80.056667 \nL 174.184943 100.22738 \nL 180.94858 80.056667 \nL 187.712216 80.056667 \nL 194.475852 100.22738 \nL 201.239489 90.142066 \nL 208.003125 105.270037 \nL 214.766761 110.312694 \nL 221.530398 115.355351 \nL 228.294034 64.928697 \nL 235.05767 110.312694 \nL 241.821307 95.184723 \nL 248.584943 59.885955 \nL 255.34858 95.184723 \nL 262.112216 90.142066 \nL 268.875852 49.800641 \nL 275.639489 75.014011 \nL 282.403125 54.843298 \nL 289.166761 75.014011 \nL 295.930398 69.971354 \nL 302.694034 80.056667 \nL 309.45767 59.885955 \nL 316.221307 49.800641 \nL 322.984943 95.184723 \nL 329.74858 59.885955 \nL 336.512216 54.843298 \nL 343.275852 85.099324 \nL 350.039489 59.885955 \nL 356.803125 44.757984 \nL 363.566761 69.971354 \nL 370.330398 69.971354 \nL 377.094034 69.971354 \nL 383.85767 75.014011 \nL 390.621307 49.800641 \nL 397.384943 69.971354 \nL 404.14858 49.800641 \nL 410.912216 54.843298 \nL 417.675852 59.885955 \nL 424.439489 59.885955 \nL 431.203125 44.757984 \nL 437.966761 75.014011 \nL 444.730398 59.885955 \nL 451.494034 75.014011 \nL 458.25767 69.971354 \nL 465.021307 54.843298 \nL 471.784943 54.843298 \nL 478.54858 39.715327 \nL 485.312216 49.800641 \nL 492.075852 54.843298 \nL 498.839489 64.928697 \nL 505.603125 49.800641 \nL 512.366761 59.885955 \nL 519.130398 69.971354 \nL 525.894034 54.843298 \nL 532.65767 69.971354 \nL 539.421307 34.67267 \nL 546.184943 49.800641 \nL 552.94858 69.971354 \nL 559.712216 75.014011 \nL 566.475852 59.885955 \n\" style=\"fill:none;stroke:#1f77b4;stroke-linecap:square;stroke-width:1.5;\"/>\n    <defs>\n     <path d=\"M 0 3 \nC 0.795609 3 1.55874 2.683901 2.12132 2.12132 \nC 2.683901 1.55874 3 0.795609 3 0 \nC 3 -0.795609 2.683901 -1.55874 2.12132 -2.12132 \nC 1.55874 -2.683901 0.795609 -3 0 -3 \nC -0.795609 -3 -1.55874 -2.683901 -2.12132 -2.12132 \nC -2.683901 -1.55874 -3 -0.795609 -3 0 \nC -3 0.795609 -2.683901 1.55874 -2.12132 2.12132 \nC -1.55874 2.683901 -0.795609 3 0 3 \nz\n\" id=\"m76788dd9af\" style=\"stroke:#1f77b4;\"/>\n    </defs>\n    <g clip-path=\"url(#pcc58a27152)\">\n     <use style=\"fill:#1f77b4;stroke:#1f77b4;\" x=\"65.966761\" xlink:href=\"#m76788dd9af\" y=\"281.76358\"/>\n     <use style=\"fill:#1f77b4;stroke:#1f77b4;\" x=\"72.730398\" xlink:href=\"#m76788dd9af\" y=\"206.123472\"/>\n     <use style=\"fill:#1f77b4;stroke:#1f77b4;\" x=\"79.494034\" xlink:href=\"#m76788dd9af\" y=\"140.56872\"/>\n     <use style=\"fill:#1f77b4;stroke:#1f77b4;\" x=\"86.25767\" xlink:href=\"#m76788dd9af\" y=\"135.526063\"/>\n     <use style=\"fill:#1f77b4;stroke:#1f77b4;\" x=\"93.021307\" xlink:href=\"#m76788dd9af\" y=\"145.611419\"/>\n     <use style=\"fill:#1f77b4;stroke:#1f77b4;\" x=\"99.784943\" xlink:href=\"#m76788dd9af\" y=\"135.526063\"/>\n     <use style=\"fill:#1f77b4;stroke:#1f77b4;\" x=\"106.54858\" xlink:href=\"#m76788dd9af\" y=\"115.355351\"/>\n     <use style=\"fill:#1f77b4;stroke:#1f77b4;\" x=\"113.312216\" xlink:href=\"#m76788dd9af\" y=\"100.22738\"/>\n     <use style=\"fill:#1f77b4;stroke:#1f77b4;\" x=\"120.075852\" xlink:href=\"#m76788dd9af\" y=\"110.312694\"/>\n     <use style=\"fill:#1f77b4;stroke:#1f77b4;\" x=\"126.839489\" xlink:href=\"#m76788dd9af\" y=\"100.22738\"/>\n     <use style=\"fill:#1f77b4;stroke:#1f77b4;\" x=\"133.603125\" xlink:href=\"#m76788dd9af\" y=\"105.270037\"/>\n     <use style=\"fill:#1f77b4;stroke:#1f77b4;\" x=\"140.366761\" xlink:href=\"#m76788dd9af\" y=\"110.312694\"/>\n     <use style=\"fill:#1f77b4;stroke:#1f77b4;\" x=\"147.130398\" xlink:href=\"#m76788dd9af\" y=\"120.398092\"/>\n     <use style=\"fill:#1f77b4;stroke:#1f77b4;\" x=\"153.894034\" xlink:href=\"#m76788dd9af\" y=\"110.312694\"/>\n     <use style=\"fill:#1f77b4;stroke:#1f77b4;\" x=\"160.65767\" xlink:href=\"#m76788dd9af\" y=\"100.22738\"/>\n     <use style=\"fill:#1f77b4;stroke:#1f77b4;\" x=\"167.421307\" xlink:href=\"#m76788dd9af\" y=\"80.056667\"/>\n     <use style=\"fill:#1f77b4;stroke:#1f77b4;\" x=\"174.184943\" xlink:href=\"#m76788dd9af\" y=\"100.22738\"/>\n     <use style=\"fill:#1f77b4;stroke:#1f77b4;\" x=\"180.94858\" xlink:href=\"#m76788dd9af\" y=\"80.056667\"/>\n     <use style=\"fill:#1f77b4;stroke:#1f77b4;\" x=\"187.712216\" xlink:href=\"#m76788dd9af\" y=\"80.056667\"/>\n     <use style=\"fill:#1f77b4;stroke:#1f77b4;\" x=\"194.475852\" xlink:href=\"#m76788dd9af\" y=\"100.22738\"/>\n     <use style=\"fill:#1f77b4;stroke:#1f77b4;\" x=\"201.239489\" xlink:href=\"#m76788dd9af\" y=\"90.142066\"/>\n     <use style=\"fill:#1f77b4;stroke:#1f77b4;\" x=\"208.003125\" xlink:href=\"#m76788dd9af\" y=\"105.270037\"/>\n     <use style=\"fill:#1f77b4;stroke:#1f77b4;\" x=\"214.766761\" xlink:href=\"#m76788dd9af\" y=\"110.312694\"/>\n     <use style=\"fill:#1f77b4;stroke:#1f77b4;\" x=\"221.530398\" xlink:href=\"#m76788dd9af\" y=\"115.355351\"/>\n     <use style=\"fill:#1f77b4;stroke:#1f77b4;\" x=\"228.294034\" xlink:href=\"#m76788dd9af\" y=\"64.928697\"/>\n     <use style=\"fill:#1f77b4;stroke:#1f77b4;\" x=\"235.05767\" xlink:href=\"#m76788dd9af\" y=\"110.312694\"/>\n     <use style=\"fill:#1f77b4;stroke:#1f77b4;\" x=\"241.821307\" xlink:href=\"#m76788dd9af\" y=\"95.184723\"/>\n     <use style=\"fill:#1f77b4;stroke:#1f77b4;\" x=\"248.584943\" xlink:href=\"#m76788dd9af\" y=\"59.885955\"/>\n     <use style=\"fill:#1f77b4;stroke:#1f77b4;\" x=\"255.34858\" xlink:href=\"#m76788dd9af\" y=\"95.184723\"/>\n     <use style=\"fill:#1f77b4;stroke:#1f77b4;\" x=\"262.112216\" xlink:href=\"#m76788dd9af\" y=\"90.142066\"/>\n     <use style=\"fill:#1f77b4;stroke:#1f77b4;\" x=\"268.875852\" xlink:href=\"#m76788dd9af\" y=\"49.800641\"/>\n     <use style=\"fill:#1f77b4;stroke:#1f77b4;\" x=\"275.639489\" xlink:href=\"#m76788dd9af\" y=\"75.014011\"/>\n     <use style=\"fill:#1f77b4;stroke:#1f77b4;\" x=\"282.403125\" xlink:href=\"#m76788dd9af\" y=\"54.843298\"/>\n     <use style=\"fill:#1f77b4;stroke:#1f77b4;\" x=\"289.166761\" xlink:href=\"#m76788dd9af\" y=\"75.014011\"/>\n     <use style=\"fill:#1f77b4;stroke:#1f77b4;\" x=\"295.930398\" xlink:href=\"#m76788dd9af\" y=\"69.971354\"/>\n     <use style=\"fill:#1f77b4;stroke:#1f77b4;\" x=\"302.694034\" xlink:href=\"#m76788dd9af\" y=\"80.056667\"/>\n     <use style=\"fill:#1f77b4;stroke:#1f77b4;\" x=\"309.45767\" xlink:href=\"#m76788dd9af\" y=\"59.885955\"/>\n     <use style=\"fill:#1f77b4;stroke:#1f77b4;\" x=\"316.221307\" xlink:href=\"#m76788dd9af\" y=\"49.800641\"/>\n     <use style=\"fill:#1f77b4;stroke:#1f77b4;\" x=\"322.984943\" xlink:href=\"#m76788dd9af\" y=\"95.184723\"/>\n     <use style=\"fill:#1f77b4;stroke:#1f77b4;\" x=\"329.74858\" xlink:href=\"#m76788dd9af\" y=\"59.885955\"/>\n     <use style=\"fill:#1f77b4;stroke:#1f77b4;\" x=\"336.512216\" xlink:href=\"#m76788dd9af\" y=\"54.843298\"/>\n     <use style=\"fill:#1f77b4;stroke:#1f77b4;\" x=\"343.275852\" xlink:href=\"#m76788dd9af\" y=\"85.099324\"/>\n     <use style=\"fill:#1f77b4;stroke:#1f77b4;\" x=\"350.039489\" xlink:href=\"#m76788dd9af\" y=\"59.885955\"/>\n     <use style=\"fill:#1f77b4;stroke:#1f77b4;\" x=\"356.803125\" xlink:href=\"#m76788dd9af\" y=\"44.757984\"/>\n     <use style=\"fill:#1f77b4;stroke:#1f77b4;\" x=\"363.566761\" xlink:href=\"#m76788dd9af\" y=\"69.971354\"/>\n     <use style=\"fill:#1f77b4;stroke:#1f77b4;\" x=\"370.330398\" xlink:href=\"#m76788dd9af\" y=\"69.971354\"/>\n     <use style=\"fill:#1f77b4;stroke:#1f77b4;\" x=\"377.094034\" xlink:href=\"#m76788dd9af\" y=\"69.971354\"/>\n     <use style=\"fill:#1f77b4;stroke:#1f77b4;\" x=\"383.85767\" xlink:href=\"#m76788dd9af\" y=\"75.014011\"/>\n     <use style=\"fill:#1f77b4;stroke:#1f77b4;\" x=\"390.621307\" xlink:href=\"#m76788dd9af\" y=\"49.800641\"/>\n     <use style=\"fill:#1f77b4;stroke:#1f77b4;\" x=\"397.384943\" xlink:href=\"#m76788dd9af\" y=\"69.971354\"/>\n     <use style=\"fill:#1f77b4;stroke:#1f77b4;\" x=\"404.14858\" xlink:href=\"#m76788dd9af\" y=\"49.800641\"/>\n     <use style=\"fill:#1f77b4;stroke:#1f77b4;\" x=\"410.912216\" xlink:href=\"#m76788dd9af\" y=\"54.843298\"/>\n     <use style=\"fill:#1f77b4;stroke:#1f77b4;\" x=\"417.675852\" xlink:href=\"#m76788dd9af\" y=\"59.885955\"/>\n     <use style=\"fill:#1f77b4;stroke:#1f77b4;\" x=\"424.439489\" xlink:href=\"#m76788dd9af\" y=\"59.885955\"/>\n     <use style=\"fill:#1f77b4;stroke:#1f77b4;\" x=\"431.203125\" xlink:href=\"#m76788dd9af\" y=\"44.757984\"/>\n     <use style=\"fill:#1f77b4;stroke:#1f77b4;\" x=\"437.966761\" xlink:href=\"#m76788dd9af\" y=\"75.014011\"/>\n     <use style=\"fill:#1f77b4;stroke:#1f77b4;\" x=\"444.730398\" xlink:href=\"#m76788dd9af\" y=\"59.885955\"/>\n     <use style=\"fill:#1f77b4;stroke:#1f77b4;\" x=\"451.494034\" xlink:href=\"#m76788dd9af\" y=\"75.014011\"/>\n     <use style=\"fill:#1f77b4;stroke:#1f77b4;\" x=\"458.25767\" xlink:href=\"#m76788dd9af\" y=\"69.971354\"/>\n     <use style=\"fill:#1f77b4;stroke:#1f77b4;\" x=\"465.021307\" xlink:href=\"#m76788dd9af\" y=\"54.843298\"/>\n     <use style=\"fill:#1f77b4;stroke:#1f77b4;\" x=\"471.784943\" xlink:href=\"#m76788dd9af\" y=\"54.843298\"/>\n     <use style=\"fill:#1f77b4;stroke:#1f77b4;\" x=\"478.54858\" xlink:href=\"#m76788dd9af\" y=\"39.715327\"/>\n     <use style=\"fill:#1f77b4;stroke:#1f77b4;\" x=\"485.312216\" xlink:href=\"#m76788dd9af\" y=\"49.800641\"/>\n     <use style=\"fill:#1f77b4;stroke:#1f77b4;\" x=\"492.075852\" xlink:href=\"#m76788dd9af\" y=\"54.843298\"/>\n     <use style=\"fill:#1f77b4;stroke:#1f77b4;\" x=\"498.839489\" xlink:href=\"#m76788dd9af\" y=\"64.928697\"/>\n     <use style=\"fill:#1f77b4;stroke:#1f77b4;\" x=\"505.603125\" xlink:href=\"#m76788dd9af\" y=\"49.800641\"/>\n     <use style=\"fill:#1f77b4;stroke:#1f77b4;\" x=\"512.366761\" xlink:href=\"#m76788dd9af\" y=\"59.885955\"/>\n     <use style=\"fill:#1f77b4;stroke:#1f77b4;\" x=\"519.130398\" xlink:href=\"#m76788dd9af\" y=\"69.971354\"/>\n     <use style=\"fill:#1f77b4;stroke:#1f77b4;\" x=\"525.894034\" xlink:href=\"#m76788dd9af\" y=\"54.843298\"/>\n     <use style=\"fill:#1f77b4;stroke:#1f77b4;\" x=\"532.65767\" xlink:href=\"#m76788dd9af\" y=\"69.971354\"/>\n     <use style=\"fill:#1f77b4;stroke:#1f77b4;\" x=\"539.421307\" xlink:href=\"#m76788dd9af\" y=\"34.67267\"/>\n     <use style=\"fill:#1f77b4;stroke:#1f77b4;\" x=\"546.184943\" xlink:href=\"#m76788dd9af\" y=\"49.800641\"/>\n     <use style=\"fill:#1f77b4;stroke:#1f77b4;\" x=\"552.94858\" xlink:href=\"#m76788dd9af\" y=\"69.971354\"/>\n     <use style=\"fill:#1f77b4;stroke:#1f77b4;\" x=\"559.712216\" xlink:href=\"#m76788dd9af\" y=\"75.014011\"/>\n     <use style=\"fill:#1f77b4;stroke:#1f77b4;\" x=\"566.475852\" xlink:href=\"#m76788dd9af\" y=\"59.885955\"/>\n    </g>\n   </g>\n   <g id=\"line2d_14\">\n    <path clip-path=\"url(#pcc58a27152)\" d=\"M 65.966761 213.687499 \nL 72.730398 185.952759 \nL 79.494034 130.483406 \nL 86.25767 213.687499 \nL 93.021307 185.952759 \nL 99.784943 158.218104 \nL 106.54858 185.952759 \nL 113.312216 213.687499 \nL 120.075852 185.952759 \nL 126.839489 158.218104 \nL 133.603125 213.687499 \nL 140.366761 185.952759 \nL 147.130398 185.952759 \nL 153.894034 185.952759 \nL 160.65767 185.952759 \nL 167.421307 213.687499 \nL 174.184943 213.687499 \nL 180.94858 213.687499 \nL 187.712216 213.687499 \nL 194.475852 158.218104 \nL 201.239489 158.218104 \nL 208.003125 213.687499 \nL 214.766761 213.687499 \nL 221.530398 213.687499 \nL 228.294034 241.422197 \nL 235.05767 213.687499 \nL 241.821307 241.422197 \nL 248.584943 213.687499 \nL 255.34858 158.218104 \nL 262.112216 213.687499 \nL 268.875852 185.952759 \nL 275.639489 213.687499 \nL 282.403125 130.483406 \nL 289.166761 241.422197 \nL 295.930398 241.422197 \nL 302.694034 185.952759 \nL 309.45767 158.218104 \nL 316.221307 185.952759 \nL 322.984943 130.483406 \nL 329.74858 185.952759 \nL 336.512216 185.952759 \nL 343.275852 158.218104 \nL 350.039489 158.218104 \nL 356.803125 158.218104 \nL 363.566761 185.952759 \nL 370.330398 185.952759 \nL 377.094034 213.687499 \nL 383.85767 158.218104 \nL 390.621307 158.218104 \nL 397.384943 158.218104 \nL 404.14858 158.218104 \nL 410.912216 185.952759 \nL 417.675852 158.218104 \nL 424.439489 185.952759 \nL 431.203125 185.952759 \nL 437.966761 130.483406 \nL 444.730398 241.422197 \nL 451.494034 158.218104 \nL 458.25767 130.483406 \nL 465.021307 213.687499 \nL 471.784943 158.218104 \nL 478.54858 213.687499 \nL 485.312216 130.483406 \nL 492.075852 213.687499 \nL 498.839489 158.218104 \nL 505.603125 241.422197 \nL 512.366761 241.422197 \nL 519.130398 158.218104 \nL 525.894034 185.952759 \nL 532.65767 213.687499 \nL 539.421307 158.218104 \nL 546.184943 158.218104 \nL 552.94858 158.218104 \nL 559.712216 213.687499 \nL 566.475852 269.156937 \n\" style=\"fill:none;stroke:#ff7f0e;stroke-linecap:square;stroke-width:1.5;\"/>\n    <defs>\n     <path d=\"M 0 3 \nC 0.795609 3 1.55874 2.683901 2.12132 2.12132 \nC 2.683901 1.55874 3 0.795609 3 0 \nC 3 -0.795609 2.683901 -1.55874 2.12132 -2.12132 \nC 1.55874 -2.683901 0.795609 -3 0 -3 \nC -0.795609 -3 -1.55874 -2.683901 -2.12132 -2.12132 \nC -2.683901 -1.55874 -3 -0.795609 -3 0 \nC -3 0.795609 -2.683901 1.55874 -2.12132 2.12132 \nC -1.55874 2.683901 -0.795609 3 0 3 \nz\n\" id=\"mfb5259ed4a\" style=\"stroke:#ff7f0e;\"/>\n    </defs>\n    <g clip-path=\"url(#pcc58a27152)\">\n     <use style=\"fill:#ff7f0e;stroke:#ff7f0e;\" x=\"65.966761\" xlink:href=\"#mfb5259ed4a\" y=\"213.687499\"/>\n     <use style=\"fill:#ff7f0e;stroke:#ff7f0e;\" x=\"72.730398\" xlink:href=\"#mfb5259ed4a\" y=\"185.952759\"/>\n     <use style=\"fill:#ff7f0e;stroke:#ff7f0e;\" x=\"79.494034\" xlink:href=\"#mfb5259ed4a\" y=\"130.483406\"/>\n     <use style=\"fill:#ff7f0e;stroke:#ff7f0e;\" x=\"86.25767\" xlink:href=\"#mfb5259ed4a\" y=\"213.687499\"/>\n     <use style=\"fill:#ff7f0e;stroke:#ff7f0e;\" x=\"93.021307\" xlink:href=\"#mfb5259ed4a\" y=\"185.952759\"/>\n     <use style=\"fill:#ff7f0e;stroke:#ff7f0e;\" x=\"99.784943\" xlink:href=\"#mfb5259ed4a\" y=\"158.218104\"/>\n     <use style=\"fill:#ff7f0e;stroke:#ff7f0e;\" x=\"106.54858\" xlink:href=\"#mfb5259ed4a\" y=\"185.952759\"/>\n     <use style=\"fill:#ff7f0e;stroke:#ff7f0e;\" x=\"113.312216\" xlink:href=\"#mfb5259ed4a\" y=\"213.687499\"/>\n     <use style=\"fill:#ff7f0e;stroke:#ff7f0e;\" x=\"120.075852\" xlink:href=\"#mfb5259ed4a\" y=\"185.952759\"/>\n     <use style=\"fill:#ff7f0e;stroke:#ff7f0e;\" x=\"126.839489\" xlink:href=\"#mfb5259ed4a\" y=\"158.218104\"/>\n     <use style=\"fill:#ff7f0e;stroke:#ff7f0e;\" x=\"133.603125\" xlink:href=\"#mfb5259ed4a\" y=\"213.687499\"/>\n     <use style=\"fill:#ff7f0e;stroke:#ff7f0e;\" x=\"140.366761\" xlink:href=\"#mfb5259ed4a\" y=\"185.952759\"/>\n     <use style=\"fill:#ff7f0e;stroke:#ff7f0e;\" x=\"147.130398\" xlink:href=\"#mfb5259ed4a\" y=\"185.952759\"/>\n     <use style=\"fill:#ff7f0e;stroke:#ff7f0e;\" x=\"153.894034\" xlink:href=\"#mfb5259ed4a\" y=\"185.952759\"/>\n     <use style=\"fill:#ff7f0e;stroke:#ff7f0e;\" x=\"160.65767\" xlink:href=\"#mfb5259ed4a\" y=\"185.952759\"/>\n     <use style=\"fill:#ff7f0e;stroke:#ff7f0e;\" x=\"167.421307\" xlink:href=\"#mfb5259ed4a\" y=\"213.687499\"/>\n     <use style=\"fill:#ff7f0e;stroke:#ff7f0e;\" x=\"174.184943\" xlink:href=\"#mfb5259ed4a\" y=\"213.687499\"/>\n     <use style=\"fill:#ff7f0e;stroke:#ff7f0e;\" x=\"180.94858\" xlink:href=\"#mfb5259ed4a\" y=\"213.687499\"/>\n     <use style=\"fill:#ff7f0e;stroke:#ff7f0e;\" x=\"187.712216\" xlink:href=\"#mfb5259ed4a\" y=\"213.687499\"/>\n     <use style=\"fill:#ff7f0e;stroke:#ff7f0e;\" x=\"194.475852\" xlink:href=\"#mfb5259ed4a\" y=\"158.218104\"/>\n     <use style=\"fill:#ff7f0e;stroke:#ff7f0e;\" x=\"201.239489\" xlink:href=\"#mfb5259ed4a\" y=\"158.218104\"/>\n     <use style=\"fill:#ff7f0e;stroke:#ff7f0e;\" x=\"208.003125\" xlink:href=\"#mfb5259ed4a\" y=\"213.687499\"/>\n     <use style=\"fill:#ff7f0e;stroke:#ff7f0e;\" x=\"214.766761\" xlink:href=\"#mfb5259ed4a\" y=\"213.687499\"/>\n     <use style=\"fill:#ff7f0e;stroke:#ff7f0e;\" x=\"221.530398\" xlink:href=\"#mfb5259ed4a\" y=\"213.687499\"/>\n     <use style=\"fill:#ff7f0e;stroke:#ff7f0e;\" x=\"228.294034\" xlink:href=\"#mfb5259ed4a\" y=\"241.422197\"/>\n     <use style=\"fill:#ff7f0e;stroke:#ff7f0e;\" x=\"235.05767\" xlink:href=\"#mfb5259ed4a\" y=\"213.687499\"/>\n     <use style=\"fill:#ff7f0e;stroke:#ff7f0e;\" x=\"241.821307\" xlink:href=\"#mfb5259ed4a\" y=\"241.422197\"/>\n     <use style=\"fill:#ff7f0e;stroke:#ff7f0e;\" x=\"248.584943\" xlink:href=\"#mfb5259ed4a\" y=\"213.687499\"/>\n     <use style=\"fill:#ff7f0e;stroke:#ff7f0e;\" x=\"255.34858\" xlink:href=\"#mfb5259ed4a\" y=\"158.218104\"/>\n     <use style=\"fill:#ff7f0e;stroke:#ff7f0e;\" x=\"262.112216\" xlink:href=\"#mfb5259ed4a\" y=\"213.687499\"/>\n     <use style=\"fill:#ff7f0e;stroke:#ff7f0e;\" x=\"268.875852\" xlink:href=\"#mfb5259ed4a\" y=\"185.952759\"/>\n     <use style=\"fill:#ff7f0e;stroke:#ff7f0e;\" x=\"275.639489\" xlink:href=\"#mfb5259ed4a\" y=\"213.687499\"/>\n     <use style=\"fill:#ff7f0e;stroke:#ff7f0e;\" x=\"282.403125\" xlink:href=\"#mfb5259ed4a\" y=\"130.483406\"/>\n     <use style=\"fill:#ff7f0e;stroke:#ff7f0e;\" x=\"289.166761\" xlink:href=\"#mfb5259ed4a\" y=\"241.422197\"/>\n     <use style=\"fill:#ff7f0e;stroke:#ff7f0e;\" x=\"295.930398\" xlink:href=\"#mfb5259ed4a\" y=\"241.422197\"/>\n     <use style=\"fill:#ff7f0e;stroke:#ff7f0e;\" x=\"302.694034\" xlink:href=\"#mfb5259ed4a\" y=\"185.952759\"/>\n     <use style=\"fill:#ff7f0e;stroke:#ff7f0e;\" x=\"309.45767\" xlink:href=\"#mfb5259ed4a\" y=\"158.218104\"/>\n     <use style=\"fill:#ff7f0e;stroke:#ff7f0e;\" x=\"316.221307\" xlink:href=\"#mfb5259ed4a\" y=\"185.952759\"/>\n     <use style=\"fill:#ff7f0e;stroke:#ff7f0e;\" x=\"322.984943\" xlink:href=\"#mfb5259ed4a\" y=\"130.483406\"/>\n     <use style=\"fill:#ff7f0e;stroke:#ff7f0e;\" x=\"329.74858\" xlink:href=\"#mfb5259ed4a\" y=\"185.952759\"/>\n     <use style=\"fill:#ff7f0e;stroke:#ff7f0e;\" x=\"336.512216\" xlink:href=\"#mfb5259ed4a\" y=\"185.952759\"/>\n     <use style=\"fill:#ff7f0e;stroke:#ff7f0e;\" x=\"343.275852\" xlink:href=\"#mfb5259ed4a\" y=\"158.218104\"/>\n     <use style=\"fill:#ff7f0e;stroke:#ff7f0e;\" x=\"350.039489\" xlink:href=\"#mfb5259ed4a\" y=\"158.218104\"/>\n     <use style=\"fill:#ff7f0e;stroke:#ff7f0e;\" x=\"356.803125\" xlink:href=\"#mfb5259ed4a\" y=\"158.218104\"/>\n     <use style=\"fill:#ff7f0e;stroke:#ff7f0e;\" x=\"363.566761\" xlink:href=\"#mfb5259ed4a\" y=\"185.952759\"/>\n     <use style=\"fill:#ff7f0e;stroke:#ff7f0e;\" x=\"370.330398\" xlink:href=\"#mfb5259ed4a\" y=\"185.952759\"/>\n     <use style=\"fill:#ff7f0e;stroke:#ff7f0e;\" x=\"377.094034\" xlink:href=\"#mfb5259ed4a\" y=\"213.687499\"/>\n     <use style=\"fill:#ff7f0e;stroke:#ff7f0e;\" x=\"383.85767\" xlink:href=\"#mfb5259ed4a\" y=\"158.218104\"/>\n     <use style=\"fill:#ff7f0e;stroke:#ff7f0e;\" x=\"390.621307\" xlink:href=\"#mfb5259ed4a\" y=\"158.218104\"/>\n     <use style=\"fill:#ff7f0e;stroke:#ff7f0e;\" x=\"397.384943\" xlink:href=\"#mfb5259ed4a\" y=\"158.218104\"/>\n     <use style=\"fill:#ff7f0e;stroke:#ff7f0e;\" x=\"404.14858\" xlink:href=\"#mfb5259ed4a\" y=\"158.218104\"/>\n     <use style=\"fill:#ff7f0e;stroke:#ff7f0e;\" x=\"410.912216\" xlink:href=\"#mfb5259ed4a\" y=\"185.952759\"/>\n     <use style=\"fill:#ff7f0e;stroke:#ff7f0e;\" x=\"417.675852\" xlink:href=\"#mfb5259ed4a\" y=\"158.218104\"/>\n     <use style=\"fill:#ff7f0e;stroke:#ff7f0e;\" x=\"424.439489\" xlink:href=\"#mfb5259ed4a\" y=\"185.952759\"/>\n     <use style=\"fill:#ff7f0e;stroke:#ff7f0e;\" x=\"431.203125\" xlink:href=\"#mfb5259ed4a\" y=\"185.952759\"/>\n     <use style=\"fill:#ff7f0e;stroke:#ff7f0e;\" x=\"437.966761\" xlink:href=\"#mfb5259ed4a\" y=\"130.483406\"/>\n     <use style=\"fill:#ff7f0e;stroke:#ff7f0e;\" x=\"444.730398\" xlink:href=\"#mfb5259ed4a\" y=\"241.422197\"/>\n     <use style=\"fill:#ff7f0e;stroke:#ff7f0e;\" x=\"451.494034\" xlink:href=\"#mfb5259ed4a\" y=\"158.218104\"/>\n     <use style=\"fill:#ff7f0e;stroke:#ff7f0e;\" x=\"458.25767\" xlink:href=\"#mfb5259ed4a\" y=\"130.483406\"/>\n     <use style=\"fill:#ff7f0e;stroke:#ff7f0e;\" x=\"465.021307\" xlink:href=\"#mfb5259ed4a\" y=\"213.687499\"/>\n     <use style=\"fill:#ff7f0e;stroke:#ff7f0e;\" x=\"471.784943\" xlink:href=\"#mfb5259ed4a\" y=\"158.218104\"/>\n     <use style=\"fill:#ff7f0e;stroke:#ff7f0e;\" x=\"478.54858\" xlink:href=\"#mfb5259ed4a\" y=\"213.687499\"/>\n     <use style=\"fill:#ff7f0e;stroke:#ff7f0e;\" x=\"485.312216\" xlink:href=\"#mfb5259ed4a\" y=\"130.483406\"/>\n     <use style=\"fill:#ff7f0e;stroke:#ff7f0e;\" x=\"492.075852\" xlink:href=\"#mfb5259ed4a\" y=\"213.687499\"/>\n     <use style=\"fill:#ff7f0e;stroke:#ff7f0e;\" x=\"498.839489\" xlink:href=\"#mfb5259ed4a\" y=\"158.218104\"/>\n     <use style=\"fill:#ff7f0e;stroke:#ff7f0e;\" x=\"505.603125\" xlink:href=\"#mfb5259ed4a\" y=\"241.422197\"/>\n     <use style=\"fill:#ff7f0e;stroke:#ff7f0e;\" x=\"512.366761\" xlink:href=\"#mfb5259ed4a\" y=\"241.422197\"/>\n     <use style=\"fill:#ff7f0e;stroke:#ff7f0e;\" x=\"519.130398\" xlink:href=\"#mfb5259ed4a\" y=\"158.218104\"/>\n     <use style=\"fill:#ff7f0e;stroke:#ff7f0e;\" x=\"525.894034\" xlink:href=\"#mfb5259ed4a\" y=\"185.952759\"/>\n     <use style=\"fill:#ff7f0e;stroke:#ff7f0e;\" x=\"532.65767\" xlink:href=\"#mfb5259ed4a\" y=\"213.687499\"/>\n     <use style=\"fill:#ff7f0e;stroke:#ff7f0e;\" x=\"539.421307\" xlink:href=\"#mfb5259ed4a\" y=\"158.218104\"/>\n     <use style=\"fill:#ff7f0e;stroke:#ff7f0e;\" x=\"546.184943\" xlink:href=\"#mfb5259ed4a\" y=\"158.218104\"/>\n     <use style=\"fill:#ff7f0e;stroke:#ff7f0e;\" x=\"552.94858\" xlink:href=\"#mfb5259ed4a\" y=\"158.218104\"/>\n     <use style=\"fill:#ff7f0e;stroke:#ff7f0e;\" x=\"559.712216\" xlink:href=\"#mfb5259ed4a\" y=\"213.687499\"/>\n     <use style=\"fill:#ff7f0e;stroke:#ff7f0e;\" x=\"566.475852\" xlink:href=\"#mfb5259ed4a\" y=\"269.156937\"/>\n    </g>\n   </g>\n   <g id=\"line2d_15\">\n    <path clip-path=\"url(#pcc58a27152)\" d=\"M 65.966761 173.626274 \nL 573.239489 173.626274 \n\" style=\"fill:none;stroke:#ff0000;stroke-dasharray:5.55,2.4;stroke-dashoffset:0;stroke-width:1.5;\"/>\n   </g>\n   <g id=\"patch_3\">\n    <path d=\"M 40.603125 294.118125 \nL 40.603125 22.318125 \n\" style=\"fill:none;stroke:#000000;stroke-linecap:square;stroke-linejoin:miter;stroke-width:0.8;\"/>\n   </g>\n   <g id=\"patch_4\">\n    <path d=\"M 598.603125 294.118125 \nL 598.603125 22.318125 \n\" style=\"fill:none;stroke:#000000;stroke-linecap:square;stroke-linejoin:miter;stroke-width:0.8;\"/>\n   </g>\n   <g id=\"patch_5\">\n    <path d=\"M 40.603125 294.118125 \nL 598.603125 294.118125 \n\" style=\"fill:none;stroke:#000000;stroke-linecap:square;stroke-linejoin:miter;stroke-width:0.8;\"/>\n   </g>\n   <g id=\"patch_6\">\n    <path d=\"M 40.603125 22.318125 \nL 598.603125 22.318125 \n\" style=\"fill:none;stroke:#000000;stroke-linecap:square;stroke-linejoin:miter;stroke-width:0.8;\"/>\n   </g>\n   <g id=\"text_15\">\n    <!-- Accuracy -->\n    <g transform=\"translate(292.209375 16.318125)scale(0.12 -0.12)\">\n     <use xlink:href=\"#DejaVuSans-65\"/>\n     <use x=\"66.658203\" xlink:href=\"#DejaVuSans-99\"/>\n     <use x=\"121.638672\" xlink:href=\"#DejaVuSans-99\"/>\n     <use x=\"176.619141\" xlink:href=\"#DejaVuSans-117\"/>\n     <use x=\"239.998047\" xlink:href=\"#DejaVuSans-114\"/>\n     <use x=\"281.111328\" xlink:href=\"#DejaVuSans-97\"/>\n     <use x=\"342.390625\" xlink:href=\"#DejaVuSans-99\"/>\n     <use x=\"397.371094\" xlink:href=\"#DejaVuSans-121\"/>\n    </g>\n   </g>\n   <g id=\"legend_1\">\n    <g id=\"patch_7\">\n     <path d=\"M 47.603125 74.3525 \nL 201.357812 74.3525 \nQ 203.357812 74.3525 203.357812 72.3525 \nL 203.357812 29.318125 \nQ 203.357812 27.318125 201.357812 27.318125 \nL 47.603125 27.318125 \nQ 45.603125 27.318125 45.603125 29.318125 \nL 45.603125 72.3525 \nQ 45.603125 74.3525 47.603125 74.3525 \nz\n\" style=\"fill:#ffffff;opacity:0.8;stroke:#cccccc;stroke-linejoin:miter;\"/>\n    </g>\n    <g id=\"line2d_16\">\n     <path d=\"M 49.603125 35.416562 \nL 69.603125 35.416562 \n\" style=\"fill:none;stroke:#1f77b4;stroke-linecap:square;stroke-width:1.5;\"/>\n    </g>\n    <g id=\"line2d_17\">\n     <g>\n      <use style=\"fill:#1f77b4;stroke:#1f77b4;\" x=\"59.603125\" xlink:href=\"#m76788dd9af\" y=\"35.416562\"/>\n     </g>\n    </g>\n    <g id=\"text_16\">\n     <!-- Train -->\n     <defs>\n      <path d=\"M -0.296875 72.90625 \nL 61.375 72.90625 \nL 61.375 64.59375 \nL 35.5 64.59375 \nL 35.5 0 \nL 25.59375 0 \nL 25.59375 64.59375 \nL -0.296875 64.59375 \nz\n\" id=\"DejaVuSans-84\"/>\n      <path d=\"M 9.421875 54.6875 \nL 18.40625 54.6875 \nL 18.40625 0 \nL 9.421875 0 \nz\nM 9.421875 75.984375 \nL 18.40625 75.984375 \nL 18.40625 64.59375 \nL 9.421875 64.59375 \nz\n\" id=\"DejaVuSans-105\"/>\n      <path d=\"M 54.890625 33.015625 \nL 54.890625 0 \nL 45.90625 0 \nL 45.90625 32.71875 \nQ 45.90625 40.484375 42.875 44.328125 \nQ 39.84375 48.1875 33.796875 48.1875 \nQ 26.515625 48.1875 22.3125 43.546875 \nQ 18.109375 38.921875 18.109375 30.90625 \nL 18.109375 0 \nL 9.078125 0 \nL 9.078125 54.6875 \nL 18.109375 54.6875 \nL 18.109375 46.1875 \nQ 21.34375 51.125 25.703125 53.5625 \nQ 30.078125 56 35.796875 56 \nQ 45.21875 56 50.046875 50.171875 \nQ 54.890625 44.34375 54.890625 33.015625 \nz\n\" id=\"DejaVuSans-110\"/>\n     </defs>\n     <g transform=\"translate(77.603125 38.916562)scale(0.1 -0.1)\">\n      <use xlink:href=\"#DejaVuSans-84\"/>\n      <use x=\"46.333984\" xlink:href=\"#DejaVuSans-114\"/>\n      <use x=\"87.447266\" xlink:href=\"#DejaVuSans-97\"/>\n      <use x=\"148.726562\" xlink:href=\"#DejaVuSans-105\"/>\n      <use x=\"176.509766\" xlink:href=\"#DejaVuSans-110\"/>\n     </g>\n    </g>\n    <g id=\"line2d_18\">\n     <path d=\"M 49.603125 50.094688 \nL 69.603125 50.094688 \n\" style=\"fill:none;stroke:#ff7f0e;stroke-linecap:square;stroke-width:1.5;\"/>\n    </g>\n    <g id=\"line2d_19\">\n     <g>\n      <use style=\"fill:#ff7f0e;stroke:#ff7f0e;\" x=\"59.603125\" xlink:href=\"#mfb5259ed4a\" y=\"50.094688\"/>\n     </g>\n    </g>\n    <g id=\"text_17\">\n     <!-- Devset -->\n     <defs>\n      <path d=\"M 19.671875 64.796875 \nL 19.671875 8.109375 \nL 31.59375 8.109375 \nQ 46.6875 8.109375 53.6875 14.9375 \nQ 60.6875 21.78125 60.6875 36.53125 \nQ 60.6875 51.171875 53.6875 57.984375 \nQ 46.6875 64.796875 31.59375 64.796875 \nz\nM 9.8125 72.90625 \nL 30.078125 72.90625 \nQ 51.265625 72.90625 61.171875 64.09375 \nQ 71.09375 55.28125 71.09375 36.53125 \nQ 71.09375 17.671875 61.125 8.828125 \nQ 51.171875 0 30.078125 0 \nL 9.8125 0 \nz\n\" id=\"DejaVuSans-68\"/>\n      <path d=\"M 56.203125 29.59375 \nL 56.203125 25.203125 \nL 14.890625 25.203125 \nQ 15.484375 15.921875 20.484375 11.0625 \nQ 25.484375 6.203125 34.421875 6.203125 \nQ 39.59375 6.203125 44.453125 7.46875 \nQ 49.3125 8.734375 54.109375 11.28125 \nL 54.109375 2.78125 \nQ 49.265625 0.734375 44.1875 -0.34375 \nQ 39.109375 -1.421875 33.890625 -1.421875 \nQ 20.796875 -1.421875 13.15625 6.1875 \nQ 5.515625 13.8125 5.515625 26.8125 \nQ 5.515625 40.234375 12.765625 48.109375 \nQ 20.015625 56 32.328125 56 \nQ 43.359375 56 49.78125 48.890625 \nQ 56.203125 41.796875 56.203125 29.59375 \nz\nM 47.21875 32.234375 \nQ 47.125 39.59375 43.09375 43.984375 \nQ 39.0625 48.390625 32.421875 48.390625 \nQ 24.90625 48.390625 20.390625 44.140625 \nQ 15.875 39.890625 15.1875 32.171875 \nz\n\" id=\"DejaVuSans-101\"/>\n      <path d=\"M 2.984375 54.6875 \nL 12.5 54.6875 \nL 29.59375 8.796875 \nL 46.6875 54.6875 \nL 56.203125 54.6875 \nL 35.6875 0 \nL 23.484375 0 \nz\n\" id=\"DejaVuSans-118\"/>\n      <path d=\"M 44.28125 53.078125 \nL 44.28125 44.578125 \nQ 40.484375 46.53125 36.375 47.5 \nQ 32.28125 48.484375 27.875 48.484375 \nQ 21.1875 48.484375 17.84375 46.4375 \nQ 14.5 44.390625 14.5 40.28125 \nQ 14.5 37.15625 16.890625 35.375 \nQ 19.28125 33.59375 26.515625 31.984375 \nL 29.59375 31.296875 \nQ 39.15625 29.25 43.1875 25.515625 \nQ 47.21875 21.78125 47.21875 15.09375 \nQ 47.21875 7.46875 41.1875 3.015625 \nQ 35.15625 -1.421875 24.609375 -1.421875 \nQ 20.21875 -1.421875 15.453125 -0.5625 \nQ 10.6875 0.296875 5.421875 2 \nL 5.421875 11.28125 \nQ 10.40625 8.6875 15.234375 7.390625 \nQ 20.0625 6.109375 24.8125 6.109375 \nQ 31.15625 6.109375 34.5625 8.28125 \nQ 37.984375 10.453125 37.984375 14.40625 \nQ 37.984375 18.0625 35.515625 20.015625 \nQ 33.0625 21.96875 24.703125 23.78125 \nL 21.578125 24.515625 \nQ 13.234375 26.265625 9.515625 29.90625 \nQ 5.8125 33.546875 5.8125 39.890625 \nQ 5.8125 47.609375 11.28125 51.796875 \nQ 16.75 56 26.8125 56 \nQ 31.78125 56 36.171875 55.265625 \nQ 40.578125 54.546875 44.28125 53.078125 \nz\n\" id=\"DejaVuSans-115\"/>\n      <path d=\"M 18.3125 70.21875 \nL 18.3125 54.6875 \nL 36.8125 54.6875 \nL 36.8125 47.703125 \nL 18.3125 47.703125 \nL 18.3125 18.015625 \nQ 18.3125 11.328125 20.140625 9.421875 \nQ 21.96875 7.515625 27.59375 7.515625 \nL 36.8125 7.515625 \nL 36.8125 0 \nL 27.59375 0 \nQ 17.1875 0 13.234375 3.875 \nQ 9.28125 7.765625 9.28125 18.015625 \nL 9.28125 47.703125 \nL 2.6875 47.703125 \nL 2.6875 54.6875 \nL 9.28125 54.6875 \nL 9.28125 70.21875 \nz\n\" id=\"DejaVuSans-116\"/>\n     </defs>\n     <g transform=\"translate(77.603125 53.594688)scale(0.1 -0.1)\">\n      <use xlink:href=\"#DejaVuSans-68\"/>\n      <use x=\"77.001953\" xlink:href=\"#DejaVuSans-101\"/>\n      <use x=\"138.525391\" xlink:href=\"#DejaVuSans-118\"/>\n      <use x=\"197.705078\" xlink:href=\"#DejaVuSans-115\"/>\n      <use x=\"249.804688\" xlink:href=\"#DejaVuSans-101\"/>\n      <use x=\"311.328125\" xlink:href=\"#DejaVuSans-116\"/>\n     </g>\n    </g>\n    <g id=\"line2d_20\">\n     <path d=\"M 49.603125 64.772812 \nL 69.603125 64.772812 \n\" style=\"fill:none;stroke:#ff0000;stroke-dasharray:5.55,2.4;stroke-dashoffset:0;stroke-width:1.5;\"/>\n    </g>\n    <g id=\"line2d_21\"/>\n    <g id=\"text_18\">\n     <!-- Best dev model on TEST -->\n     <defs>\n      <path d=\"M 19.671875 34.8125 \nL 19.671875 8.109375 \nL 35.5 8.109375 \nQ 43.453125 8.109375 47.28125 11.40625 \nQ 51.125 14.703125 51.125 21.484375 \nQ 51.125 28.328125 47.28125 31.5625 \nQ 43.453125 34.8125 35.5 34.8125 \nz\nM 19.671875 64.796875 \nL 19.671875 42.828125 \nL 34.28125 42.828125 \nQ 41.5 42.828125 45.03125 45.53125 \nQ 48.578125 48.25 48.578125 53.8125 \nQ 48.578125 59.328125 45.03125 62.0625 \nQ 41.5 64.796875 34.28125 64.796875 \nz\nM 9.8125 72.90625 \nL 35.015625 72.90625 \nQ 46.296875 72.90625 52.390625 68.21875 \nQ 58.5 63.53125 58.5 54.890625 \nQ 58.5 48.1875 55.375 44.234375 \nQ 52.25 40.28125 46.1875 39.3125 \nQ 53.46875 37.75 57.5 32.78125 \nQ 61.53125 27.828125 61.53125 20.40625 \nQ 61.53125 10.640625 54.890625 5.3125 \nQ 48.25 0 35.984375 0 \nL 9.8125 0 \nz\n\" id=\"DejaVuSans-66\"/>\n      <path d=\"M 45.40625 46.390625 \nL 45.40625 75.984375 \nL 54.390625 75.984375 \nL 54.390625 0 \nL 45.40625 0 \nL 45.40625 8.203125 \nQ 42.578125 3.328125 38.25 0.953125 \nQ 33.9375 -1.421875 27.875 -1.421875 \nQ 17.96875 -1.421875 11.734375 6.484375 \nQ 5.515625 14.40625 5.515625 27.296875 \nQ 5.515625 40.1875 11.734375 48.09375 \nQ 17.96875 56 27.875 56 \nQ 33.9375 56 38.25 53.625 \nQ 42.578125 51.265625 45.40625 46.390625 \nz\nM 14.796875 27.296875 \nQ 14.796875 17.390625 18.875 11.75 \nQ 22.953125 6.109375 30.078125 6.109375 \nQ 37.203125 6.109375 41.296875 11.75 \nQ 45.40625 17.390625 45.40625 27.296875 \nQ 45.40625 37.203125 41.296875 42.84375 \nQ 37.203125 48.484375 30.078125 48.484375 \nQ 22.953125 48.484375 18.875 42.84375 \nQ 14.796875 37.203125 14.796875 27.296875 \nz\n\" id=\"DejaVuSans-100\"/>\n      <path d=\"M 52 44.1875 \nQ 55.375 50.25 60.0625 53.125 \nQ 64.75 56 71.09375 56 \nQ 79.640625 56 84.28125 50.015625 \nQ 88.921875 44.046875 88.921875 33.015625 \nL 88.921875 0 \nL 79.890625 0 \nL 79.890625 32.71875 \nQ 79.890625 40.578125 77.09375 44.375 \nQ 74.3125 48.1875 68.609375 48.1875 \nQ 61.625 48.1875 57.5625 43.546875 \nQ 53.515625 38.921875 53.515625 30.90625 \nL 53.515625 0 \nL 44.484375 0 \nL 44.484375 32.71875 \nQ 44.484375 40.625 41.703125 44.40625 \nQ 38.921875 48.1875 33.109375 48.1875 \nQ 26.21875 48.1875 22.15625 43.53125 \nQ 18.109375 38.875 18.109375 30.90625 \nL 18.109375 0 \nL 9.078125 0 \nL 9.078125 54.6875 \nL 18.109375 54.6875 \nL 18.109375 46.1875 \nQ 21.1875 51.21875 25.484375 53.609375 \nQ 29.78125 56 35.6875 56 \nQ 41.65625 56 45.828125 52.96875 \nQ 50 49.953125 52 44.1875 \nz\n\" id=\"DejaVuSans-109\"/>\n      <path d=\"M 9.421875 75.984375 \nL 18.40625 75.984375 \nL 18.40625 0 \nL 9.421875 0 \nz\n\" id=\"DejaVuSans-108\"/>\n      <path d=\"M 53.515625 70.515625 \nL 53.515625 60.890625 \nQ 47.90625 63.578125 42.921875 64.890625 \nQ 37.9375 66.21875 33.296875 66.21875 \nQ 25.25 66.21875 20.875 63.09375 \nQ 16.5 59.96875 16.5 54.203125 \nQ 16.5 49.359375 19.40625 46.890625 \nQ 22.3125 44.4375 30.421875 42.921875 \nL 36.375 41.703125 \nQ 47.40625 39.59375 52.65625 34.296875 \nQ 57.90625 29 57.90625 20.125 \nQ 57.90625 9.515625 50.796875 4.046875 \nQ 43.703125 -1.421875 29.984375 -1.421875 \nQ 24.8125 -1.421875 18.96875 -0.25 \nQ 13.140625 0.921875 6.890625 3.21875 \nL 6.890625 13.375 \nQ 12.890625 10.015625 18.65625 8.296875 \nQ 24.421875 6.59375 29.984375 6.59375 \nQ 38.421875 6.59375 43.015625 9.90625 \nQ 47.609375 13.234375 47.609375 19.390625 \nQ 47.609375 24.75 44.3125 27.78125 \nQ 41.015625 30.8125 33.5 32.328125 \nL 27.484375 33.5 \nQ 16.453125 35.6875 11.515625 40.375 \nQ 6.59375 45.0625 6.59375 53.421875 \nQ 6.59375 63.09375 13.40625 68.65625 \nQ 20.21875 74.21875 32.171875 74.21875 \nQ 37.3125 74.21875 42.625 73.28125 \nQ 47.953125 72.359375 53.515625 70.515625 \nz\n\" id=\"DejaVuSans-83\"/>\n     </defs>\n     <g transform=\"translate(77.603125 68.272812)scale(0.1 -0.1)\">\n      <use xlink:href=\"#DejaVuSans-66\"/>\n      <use x=\"68.603516\" xlink:href=\"#DejaVuSans-101\"/>\n      <use x=\"130.126953\" xlink:href=\"#DejaVuSans-115\"/>\n      <use x=\"182.226562\" xlink:href=\"#DejaVuSans-116\"/>\n      <use x=\"221.435547\" xlink:href=\"#DejaVuSans-32\"/>\n      <use x=\"253.222656\" xlink:href=\"#DejaVuSans-100\"/>\n      <use x=\"316.699219\" xlink:href=\"#DejaVuSans-101\"/>\n      <use x=\"378.222656\" xlink:href=\"#DejaVuSans-118\"/>\n      <use x=\"437.402344\" xlink:href=\"#DejaVuSans-32\"/>\n      <use x=\"469.189453\" xlink:href=\"#DejaVuSans-109\"/>\n      <use x=\"566.601562\" xlink:href=\"#DejaVuSans-111\"/>\n      <use x=\"627.783203\" xlink:href=\"#DejaVuSans-100\"/>\n      <use x=\"691.259766\" xlink:href=\"#DejaVuSans-101\"/>\n      <use x=\"752.783203\" xlink:href=\"#DejaVuSans-108\"/>\n      <use x=\"780.566406\" xlink:href=\"#DejaVuSans-32\"/>\n      <use x=\"812.353516\" xlink:href=\"#DejaVuSans-111\"/>\n      <use x=\"873.535156\" xlink:href=\"#DejaVuSans-110\"/>\n      <use x=\"936.914062\" xlink:href=\"#DejaVuSans-32\"/>\n      <use x=\"968.701172\" xlink:href=\"#DejaVuSans-84\"/>\n      <use x=\"1029.785156\" xlink:href=\"#DejaVuSans-69\"/>\n      <use x=\"1092.96875\" xlink:href=\"#DejaVuSans-83\"/>\n      <use x=\"1156.445312\" xlink:href=\"#DejaVuSans-84\"/>\n     </g>\n    </g>\n   </g>\n  </g>\n </g>\n <defs>\n  <clipPath id=\"pcc58a27152\">\n   <rect height=\"271.8\" width=\"558\" x=\"40.603125\" y=\"22.318125\"/>\n  </clipPath>\n </defs>\n</svg>\n"
          },
          "metadata": {
            "needs_background": "light"
          }
        }
      ],
      "source": [
        "\n",
        "fig = plt.figure(figsize=(10,5))\n",
        "plt.plot(trainAcc,'o-',label='Train')\n",
        "plt.plot(devAcc,'o-',label='Devset')\n",
        "plt.plot([0,len(devAcc)],[bestAcc,bestAcc],'r--',label='Best dev model on TEST')\n",
        "plt.ylabel('Accuracy (%)')\n",
        "plt.xlabel('Epoch')\n",
        "plt.title('Accuracy')\n",
        "#plt.ylim([bestAcc-5,bestAcc+5])\n",
        "plt.legend()\n",
        "plt.show()"
      ]
    },
    {
      "cell_type": "code",
      "execution_count": 19,
      "metadata": {
        "id": "KEV0b8kiVpfO"
      },
      "outputs": [],
      "source": []
    }
  ],
  "metadata": {
    "colab": {
      "collapsed_sections": [],
      "provenance": [],
      "include_colab_link": true
    },
    "kernelspec": {
      "display_name": "Python 3 (ipykernel)",
      "language": "python",
      "name": "python3"
    },
    "language_info": {
      "codemirror_mode": {
        "name": "ipython",
        "version": 3
      },
      "file_extension": ".py",
      "mimetype": "text/x-python",
      "name": "python",
      "nbconvert_exporter": "python",
      "pygments_lexer": "ipython3",
      "version": "3.7.13"
    }
  },
  "nbformat": 4,
  "nbformat_minor": 0
}