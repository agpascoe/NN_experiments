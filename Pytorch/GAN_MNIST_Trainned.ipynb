{
  "nbformat": 4,
  "nbformat_minor": 0,
  "metadata": {
    "colab": {
      "provenance": [],
      "mount_file_id": "1_fs-cCccla52tdOaKxh_fvLD0GfZihRA",
      "authorship_tag": "ABX9TyPMRdzRjduedfuFmppIlz3F",
      "include_colab_link": true
    },
    "kernelspec": {
      "name": "python3",
      "display_name": "Python 3"
    },
    "language_info": {
      "name": "python"
    },
    "accelerator": "GPU",
    "gpuClass": "standard"
  },
  "cells": [
    {
      "cell_type": "markdown",
      "metadata": {
        "id": "view-in-github",
        "colab_type": "text"
      },
      "source": [
        "<a href=\"https://colab.research.google.com/github/agpascoe/NN_experiments/blob/main/Pytorch/GAN_MNIST_Trainned.ipynb\" target=\"_parent\"><img src=\"https://colab.research.google.com/assets/colab-badge.svg\" alt=\"Open In Colab\"/></a>"
      ]
    },
    {
      "cell_type": "code",
      "execution_count": 2,
      "metadata": {
        "id": "84ibrPRSiss6"
      },
      "outputs": [],
      "source": [
        "import torch, pdb\n",
        "from torch.utils.data import DataLoader\n",
        "from torch import nn\n",
        "from torchvision import transforms\n",
        "from torchvision.datasets import MNIST\n",
        "from torchvision.utils import make_grid\n",
        "from tqdm.auto import tqdm\n",
        "import matplotlib.pyplot as plt"
      ]
    },
    {
      "cell_type": "code",
      "source": [
        "# HyperParameters\n",
        "EPOCHS = 400\n",
        "INFO_STEP = 4800\n",
        "ZDIM = 128\n",
        "LR = 1e-5\n",
        "BATCHSIZE = 125\n",
        "DEVICE = torch.device('cuda' if torch.cuda.is_available() else 'cpu')\n",
        "DATALOADER = DataLoader(MNIST('.', download=True, transform=transforms.ToTensor()), shuffle=True, batch_size=BATCHSIZE)\n",
        "\n",
        "from torch.nn.modules.activation import ReLU\n",
        "#defining two models, Generator and Discriinator\n",
        "\n",
        "def generatorBlock(input, output):\n",
        "  return nn.Sequential(\n",
        "      nn.Linear(input, output),\n",
        "      nn.BatchNorm1d(output),\n",
        "      nn.ReLU(inplace=True) #optimize memory because makes the operation directly\n",
        "  )\n",
        "\n",
        "class generatorClass(nn.Module):\n",
        "  def __init__(self, zDim, hiddenDim, outputDim):\n",
        "    super().__init__()\n",
        "    self.gen = nn.Sequential(\n",
        "        generatorBlock(zDim, hiddenDim),\n",
        "        generatorBlock(hiddenDim, 2*hiddenDim),\n",
        "        generatorBlock(2*hiddenDim, 4*hiddenDim),\n",
        "        generatorBlock(4*hiddenDim, 8*hiddenDim),\n",
        "        nn.Linear(8*hiddenDim, outputDim),\n",
        "        nn.Sigmoid(),\n",
        "    )\n",
        "    self.optimizer = torch.optim.Adam(self.parameters(), lr = LR)\n",
        "  \n",
        "  def forward(self, noise):\n",
        "    return self.gen(noise)\n",
        "\n",
        "\n",
        "def discriminatorBlock(input, output):\n",
        "  return nn.Sequential(\n",
        "      nn.Linear(input, output),\n",
        "      nn.LeakyReLU(0.2, inplace=True) #The size of the slope is 0.2\n",
        "  )\n",
        "\n",
        "class discriminatorClass(nn.Module):\n",
        "  def __init__(self,inputDim):\n",
        "    super().__init__()\n",
        "    self.disc = nn.Sequential(\n",
        "        discriminatorBlock(inputDim, int(inputDim/2)),\n",
        "        discriminatorBlock(int(inputDim/2), int(inputDim/4)),\n",
        "        discriminatorBlock(int(inputDim/4), int(inputDim/8)),\n",
        "        nn.Linear(int(inputDim/8),1)\n",
        "    )\n",
        "    self.optimizer = torch.optim.Adam(self.parameters(), lr = LR)\n",
        "\n",
        "\n",
        "  def forward(self, image):\n",
        "    return self.disc(image)\n",
        "\n",
        "class ganClass(nn.Module):\n",
        "  def __init__(self, zDim, hiddenGenDim, inputDiscDim):\n",
        "    super().__init__()\n",
        "    self.generator = generatorClass(zDim, hiddenGenDim, inputDiscDim)\n",
        "    self.discriminator = discriminatorClass(inputDiscDim)\n",
        "    self.lossFunction = nn.BCEWithLogitsLoss()\n",
        "\n",
        "  def forward(self, noise):\n",
        "    return self.discriminator(self.generator(noise))\n",
        "\n",
        "  def lossGenCalculation(self, number, zDim):\n",
        "    preds = self.discriminator(self.generator(noiseGenerator(number, zDim)))\n",
        "    return self.lossFunction(preds, torch.ones_like(preds).to(DEVICE))\n",
        "  \n",
        "  def lossDiscCalculation(self, number, zDim, real):\n",
        "    discFake = self.discriminator(self.generator(noiseGenerator(number, zDim)).detach())\n",
        "    discFakeLoss = self.lossFunction(discFake, torch.zeros_like(discFake).to(DEVICE))\n",
        "    discReal = self.discriminator(real)\n",
        "    discRealLoss = self.lossFunction(discReal, torch.ones_like(discReal).to(DEVICE))\n",
        "    return (discFakeLoss+discRealLoss)/2\n",
        "\n",
        "  def fit(self, zDim, dataloader=DATALOADER, epochs = EPOCHS):\n",
        "    \n",
        "    #Setup main parameters\n",
        "    currentStep = 0\n",
        "    currentBatchSize = 0\n",
        "    meanGeneratorLoss = 0\n",
        "    mGL = []\n",
        "    mDL = []\n",
        "    meanDiscrtiminatorLoss = 0\n",
        "\n",
        "    \n",
        "    for epoch in tqdm(range(epochs)):\n",
        "      for real, _ in dataloader:\n",
        "        #trainning discriminator\n",
        "        real=real.to(DEVICE)\n",
        "        self.discriminator.optimizer.zero_grad()\n",
        "        currentBatchSize = len(real)\n",
        "        real = real.view(currentBatchSize, -1) #resizes to 128 x xx for example\n",
        "        discLoss = self.lossDiscCalculation(currentBatchSize, zDim, real)\n",
        "        discLoss.backward(retain_graph=True)\n",
        "        self.discriminator.optimizer.step()\n",
        "\n",
        "\n",
        "        #trainning generator\n",
        "        self.generator.optimizer.zero_grad()\n",
        "        genLoss = self.lossGenCalculation(currentBatchSize,zDim)\n",
        "        genLoss.backward(retain_graph=True)\n",
        "        self.generator.optimizer.step()\n",
        "\n",
        "        meanDiscrtiminatorLoss+= discLoss.item() / INFO_STEP\n",
        "        meanGeneratorLoss += genLoss.item() / INFO_STEP\n",
        "        mDL.append(discLoss.item())\n",
        "        mGL.append(genLoss.item())\n",
        "\n",
        "        if (currentStep+1) % INFO_STEP == 0 or currentStep == 10:\n",
        "          fake = self.generator(noiseGenerator(currentBatchSize, zDim))\n",
        "          show_images(fake)\n",
        "          print(f'{epoch}, step: {currentStep} from {epochs*len(dataloader)}, MeanDiscLoss: {meanDiscrtiminatorLoss}, GenDiscLoss: {meanGeneratorLoss}')\n",
        "          plt.plot(mDL, label=\"DiscLoss\")\n",
        "          plt.plot(mGL, label = \"GenLoss\")\n",
        "          plt.legend()\n",
        "          plt.show()\n",
        "          meanGeneratorLoss, meanDiscrtiminatorLoss = 0,0\n",
        "        currentStep+= 1  \n",
        "\n",
        "    return(mDL, mGL)\n",
        "\n",
        "#this is a visualization function\n",
        "def show_images(input, channel=1, size=(28,28), sizegrid=6):\n",
        "  #The imput is a vector of (samples, size), that is a comprossed nxn image (784 in this example)\n",
        "  data = input.detach().cpu().view(-1, channel, *size) # move from (samples,nxn) vector to a (samples, 1, n, n) and move it to a CPU\n",
        "  grid = make_grid(tensor=data[:sizegrid**2], nrow=sizegrid, padding=False).permute(1,2,0) # create a sizegrid x sizegrid grid ready for being plot (permute)\n",
        " \n",
        "#  print(data.shape, grid.shape)\n",
        "  plt.imshow(grid)\n",
        "  plt.show()\n"
      ],
      "metadata": {
        "id": "CMRT4jOKkLBL"
      },
      "execution_count": 17,
      "outputs": []
    },
    {
      "cell_type": "code",
      "source": [
        "model = torch.load('./drive/MyDrive/gan_2_0.pt')\n",
        "model.eval()"
      ],
      "metadata": {
        "colab": {
          "base_uri": "https://localhost:8080/"
        },
        "id": "XF_0oqJzi20M",
        "outputId": "74a54f0a-f9fd-4df0-a636-cfa7f642f9ca"
      },
      "execution_count": 18,
      "outputs": [
        {
          "output_type": "execute_result",
          "data": {
            "text/plain": [
              "ganClass(\n",
              "  (generator): generatorClass(\n",
              "    (gen): Sequential(\n",
              "      (0): Sequential(\n",
              "        (0): Linear(in_features=128, out_features=128, bias=True)\n",
              "        (1): BatchNorm1d(128, eps=1e-05, momentum=0.1, affine=True, track_running_stats=True)\n",
              "        (2): ReLU(inplace=True)\n",
              "      )\n",
              "      (1): Sequential(\n",
              "        (0): Linear(in_features=128, out_features=256, bias=True)\n",
              "        (1): BatchNorm1d(256, eps=1e-05, momentum=0.1, affine=True, track_running_stats=True)\n",
              "        (2): ReLU(inplace=True)\n",
              "      )\n",
              "      (2): Sequential(\n",
              "        (0): Linear(in_features=256, out_features=512, bias=True)\n",
              "        (1): BatchNorm1d(512, eps=1e-05, momentum=0.1, affine=True, track_running_stats=True)\n",
              "        (2): ReLU(inplace=True)\n",
              "      )\n",
              "      (3): Sequential(\n",
              "        (0): Linear(in_features=512, out_features=1024, bias=True)\n",
              "        (1): BatchNorm1d(1024, eps=1e-05, momentum=0.1, affine=True, track_running_stats=True)\n",
              "        (2): ReLU(inplace=True)\n",
              "      )\n",
              "      (4): Linear(in_features=1024, out_features=784, bias=True)\n",
              "      (5): Sigmoid()\n",
              "    )\n",
              "  )\n",
              "  (discriminator): discriminatorClass(\n",
              "    (disc): Sequential(\n",
              "      (0): Sequential(\n",
              "        (0): Linear(in_features=784, out_features=392, bias=True)\n",
              "        (1): LeakyReLU(negative_slope=0.2, inplace=True)\n",
              "      )\n",
              "      (1): Sequential(\n",
              "        (0): Linear(in_features=392, out_features=196, bias=True)\n",
              "        (1): LeakyReLU(negative_slope=0.2, inplace=True)\n",
              "      )\n",
              "      (2): Sequential(\n",
              "        (0): Linear(in_features=196, out_features=98, bias=True)\n",
              "        (1): LeakyReLU(negative_slope=0.2, inplace=True)\n",
              "      )\n",
              "      (3): Linear(in_features=98, out_features=1, bias=True)\n",
              "    )\n",
              "  )\n",
              "  (lossFunction): BCEWithLogitsLoss()\n",
              ")"
            ]
          },
          "metadata": {},
          "execution_count": 18
        }
      ]
    },
    {
      "cell_type": "code",
      "source": [
        "fake = model.generator(torch.randn(4, 128).to(DEVICE))\n",
        "show_images(fake, sizegrid=2)"
      ],
      "metadata": {
        "colab": {
          "base_uri": "https://localhost:8080/",
          "height": 267
        },
        "id": "VBpH3GGkjL_9",
        "outputId": "ec8759a1-4b5b-4dd6-e614-53c74f2e5c05"
      },
      "execution_count": 59,
      "outputs": [
        {
          "output_type": "display_data",
          "data": {
            "text/plain": [
              "<Figure size 432x288 with 1 Axes>"
            ],
            "image/png": "[encoded data removed]"
          },
          "metadata": {
            "needs_background": "light"
          }
        }
      ]
    },
    {
      "cell_type": "code",
      "source": [],
      "metadata": {
        "id": "vGhu-nyjlSoY"
      },
      "execution_count": 31,
      "outputs": []
    }
  ]
}